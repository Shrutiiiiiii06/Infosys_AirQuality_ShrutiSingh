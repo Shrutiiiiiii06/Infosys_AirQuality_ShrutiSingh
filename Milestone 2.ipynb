{
 "cells": [
  {
   "cell_type": "code",
   "execution_count": 1,
   "id": "d0f3c57e-53d6-4325-9346-804486e4b2bb",
   "metadata": {},
   "outputs": [],
   "source": [
    "# STEP 1: IMPORTING THE LIBRARIES"
   ]
  },
  {
   "cell_type": "code",
   "execution_count": 3,
   "id": "9a43144d-8e78-4ac3-8be1-0e13f3f9ee46",
   "metadata": {},
   "outputs": [
    {
     "name": "stdout",
     "output_type": "stream",
     "text": [
      "Collecting xgboost"
     ]
    },
    {
     "name": "stderr",
     "output_type": "stream",
     "text": [
      "\n",
      "[notice] A new release of pip is available: 25.1.1 -> 25.2\n",
      "[notice] To update, run: python.exe -m pip install --upgrade pip\n"
     ]
    },
    {
     "name": "stdout",
     "output_type": "stream",
     "text": [
      "\n",
      "  Downloading xgboost-3.0.5-py3-none-win_amd64.whl.metadata (2.1 kB)\n",
      "Requirement already satisfied: numpy in c:\\users\\dell\\appdata\\local\\programs\\python\\python311\\lib\\site-packages (from xgboost) (1.26.4)\n",
      "Requirement already satisfied: scipy in c:\\users\\dell\\appdata\\local\\programs\\python\\python311\\lib\\site-packages (from xgboost) (1.14.1)\n",
      "Downloading xgboost-3.0.5-py3-none-win_amd64.whl (56.8 MB)\n",
      "   ---------------------------------------- 0.0/56.8 MB ? eta -:--:--\n",
      "   ---------------------------------------- 0.5/56.8 MB 3.4 MB/s eta 0:00:17\n",
      "   - -------------------------------------- 1.6/56.8 MB 4.0 MB/s eta 0:00:14\n",
      "   - -------------------------------------- 2.4/56.8 MB 3.8 MB/s eta 0:00:15\n",
      "   -- ------------------------------------- 3.1/56.8 MB 4.0 MB/s eta 0:00:14\n",
      "   -- ------------------------------------- 3.9/56.8 MB 4.0 MB/s eta 0:00:14\n",
      "   --- ------------------------------------ 4.7/56.8 MB 4.0 MB/s eta 0:00:14\n",
      "   --- ------------------------------------ 5.5/56.8 MB 3.8 MB/s eta 0:00:14\n",
      "   ---- ----------------------------------- 6.3/56.8 MB 3.8 MB/s eta 0:00:14\n",
      "   ---- ----------------------------------- 7.1/56.8 MB 3.8 MB/s eta 0:00:14\n",
      "   ----- ---------------------------------- 8.1/56.8 MB 3.8 MB/s eta 0:00:13\n",
      "   ------ --------------------------------- 8.9/56.8 MB 3.8 MB/s eta 0:00:13\n",
      "   ------ --------------------------------- 9.7/56.8 MB 3.8 MB/s eta 0:00:13\n",
      "   ------- -------------------------------- 10.5/56.8 MB 3.8 MB/s eta 0:00:13\n",
      "   ------- -------------------------------- 11.3/56.8 MB 3.8 MB/s eta 0:00:12\n",
      "   -------- ------------------------------- 12.1/56.8 MB 3.9 MB/s eta 0:00:12\n",
      "   --------- ------------------------------ 12.8/56.8 MB 3.8 MB/s eta 0:00:12\n",
      "   --------- ------------------------------ 13.6/56.8 MB 3.8 MB/s eta 0:00:12\n",
      "   ---------- ----------------------------- 14.4/56.8 MB 3.8 MB/s eta 0:00:12\n",
      "   ---------- ----------------------------- 15.2/56.8 MB 3.8 MB/s eta 0:00:12\n",
      "   ----------- ---------------------------- 16.0/56.8 MB 3.8 MB/s eta 0:00:11\n",
      "   ----------- ---------------------------- 16.8/56.8 MB 3.8 MB/s eta 0:00:11\n",
      "   ------------ --------------------------- 17.6/56.8 MB 3.8 MB/s eta 0:00:11\n",
      "   ------------ --------------------------- 18.4/56.8 MB 3.8 MB/s eta 0:00:11\n",
      "   ------------- -------------------------- 19.1/56.8 MB 3.8 MB/s eta 0:00:11\n",
      "   -------------- ------------------------- 19.9/56.8 MB 3.8 MB/s eta 0:00:10\n",
      "   -------------- ------------------------- 20.7/56.8 MB 3.7 MB/s eta 0:00:10\n",
      "   --------------- ------------------------ 21.5/56.8 MB 3.8 MB/s eta 0:00:10\n",
      "   --------------- ------------------------ 22.5/56.8 MB 3.8 MB/s eta 0:00:10\n",
      "   ---------------- ----------------------- 23.1/56.8 MB 3.8 MB/s eta 0:00:09\n",
      "   ---------------- ----------------------- 23.9/56.8 MB 3.7 MB/s eta 0:00:09\n",
      "   ----------------- ---------------------- 24.9/56.8 MB 3.8 MB/s eta 0:00:09\n",
      "   ------------------ --------------------- 25.7/56.8 MB 3.8 MB/s eta 0:00:09\n",
      "   ------------------ --------------------- 26.5/56.8 MB 3.8 MB/s eta 0:00:09\n",
      "   ------------------- -------------------- 27.3/56.8 MB 3.7 MB/s eta 0:00:08\n",
      "   ------------------- -------------------- 27.8/56.8 MB 3.7 MB/s eta 0:00:08\n",
      "   -------------------- ------------------- 28.6/56.8 MB 3.7 MB/s eta 0:00:08\n",
      "   -------------------- ------------------- 29.4/56.8 MB 3.7 MB/s eta 0:00:08\n",
      "   --------------------- ------------------ 30.1/56.8 MB 3.7 MB/s eta 0:00:08\n",
      "   --------------------- ------------------ 30.9/56.8 MB 3.7 MB/s eta 0:00:07\n",
      "   ---------------------- ----------------- 31.5/56.8 MB 3.7 MB/s eta 0:00:07\n",
      "   ---------------------- ----------------- 32.0/56.8 MB 3.7 MB/s eta 0:00:07\n",
      "   ---------------------- ----------------- 32.5/56.8 MB 3.6 MB/s eta 0:00:07\n",
      "   ----------------------- ---------------- 33.0/56.8 MB 3.6 MB/s eta 0:00:07\n",
      "   ----------------------- ---------------- 33.8/56.8 MB 3.6 MB/s eta 0:00:07\n",
      "   ------------------------ --------------- 34.3/56.8 MB 3.6 MB/s eta 0:00:07\n",
      "   ------------------------ --------------- 34.9/56.8 MB 3.6 MB/s eta 0:00:07\n",
      "   ------------------------- -------------- 35.7/56.8 MB 3.6 MB/s eta 0:00:06\n",
      "   ------------------------- -------------- 36.4/56.8 MB 3.6 MB/s eta 0:00:06\n",
      "   -------------------------- ------------- 37.2/56.8 MB 3.6 MB/s eta 0:00:06\n",
      "   -------------------------- ------------- 38.0/56.8 MB 3.6 MB/s eta 0:00:06\n",
      "   --------------------------- ------------ 38.8/56.8 MB 3.6 MB/s eta 0:00:06\n",
      "   --------------------------- ------------ 39.6/56.8 MB 3.6 MB/s eta 0:00:05\n",
      "   ---------------------------- ----------- 40.4/56.8 MB 3.6 MB/s eta 0:00:05\n",
      "   ---------------------------- ----------- 41.2/56.8 MB 3.6 MB/s eta 0:00:05\n",
      "   ----------------------------- ---------- 41.7/56.8 MB 3.6 MB/s eta 0:00:05\n",
      "   ------------------------------ --------- 42.7/56.8 MB 3.6 MB/s eta 0:00:04\n",
      "   ------------------------------ --------- 43.5/56.8 MB 3.6 MB/s eta 0:00:04\n",
      "   ------------------------------- -------- 44.3/56.8 MB 3.6 MB/s eta 0:00:04\n",
      "   ------------------------------- -------- 45.1/56.8 MB 3.6 MB/s eta 0:00:04\n",
      "   -------------------------------- ------- 45.9/56.8 MB 3.6 MB/s eta 0:00:04\n",
      "   --------------------------------- ------ 46.9/56.8 MB 3.6 MB/s eta 0:00:03\n",
      "   --------------------------------- ------ 47.7/56.8 MB 3.6 MB/s eta 0:00:03\n",
      "   ---------------------------------- ----- 48.8/56.8 MB 3.6 MB/s eta 0:00:03\n",
      "   ---------------------------------- ----- 49.5/56.8 MB 3.6 MB/s eta 0:00:02\n",
      "   ----------------------------------- ---- 50.3/56.8 MB 3.7 MB/s eta 0:00:02\n",
      "   ------------------------------------ --- 51.4/56.8 MB 3.7 MB/s eta 0:00:02\n",
      "   ------------------------------------ --- 51.9/56.8 MB 3.7 MB/s eta 0:00:02\n",
      "   ------------------------------------- -- 52.7/56.8 MB 3.7 MB/s eta 0:00:02\n",
      "   ------------------------------------- -- 53.7/56.8 MB 3.7 MB/s eta 0:00:01\n",
      "   -------------------------------------- - 54.5/56.8 MB 3.7 MB/s eta 0:00:01\n",
      "   -------------------------------------- - 55.3/56.8 MB 3.7 MB/s eta 0:00:01\n",
      "   ---------------------------------------  56.4/56.8 MB 3.7 MB/s eta 0:00:01\n",
      "   ---------------------------------------  56.6/56.8 MB 3.7 MB/s eta 0:00:01\n",
      "   ---------------------------------------- 56.8/56.8 MB 3.6 MB/s eta 0:00:00\n",
      "Installing collected packages: xgboost\n",
      "Successfully installed xgboost-3.0.5\n"
     ]
    }
   ],
   "source": [
    "!pip install xgboost"
   ]
  },
  {
   "cell_type": "code",
   "execution_count": 2,
   "id": "30f78e1c-8cbe-42e3-a3a9-ce7365294753",
   "metadata": {},
   "outputs": [],
   "source": [
    "# Import Libraries\n",
    "import numpy as np\n",
    "import pandas as pd\n",
    "import matplotlib.pyplot as plt\n",
    "import seaborn as sns\n",
    "\n",
    "# For Time Series Models\n",
    "from statsmodels.tsa.arima.model import ARIMA\n",
    "from prophet import Prophet\n",
    "from sklearn.metrics import mean_absolute_error, mean_squared_error\n",
    "from sklearn.preprocessing import MinMaxScaler\n",
    "from sklearn.model_selection import train_test_split\n",
    "\n",
    "# For Deep Learning Model\n",
    "from tensorflow.keras.models import Sequential\n",
    "from tensorflow.keras.layers import LSTM, Dense\n",
    "\n",
    "# For XGBoost\n",
    "from xgboost import XGBRegressor\n",
    "\n",
    "import warnings\n",
    "warnings.filterwarnings('ignore')\n"
   ]
  },
  {
   "cell_type": "code",
   "execution_count": 3,
   "id": "5e8e3c3a-3c83-4d7b-9201-e52eeb424ba7",
   "metadata": {},
   "outputs": [],
   "source": [
    "# STEP 2: LOADING THE DATASET"
   ]
  },
  {
   "cell_type": "code",
   "execution_count": 3,
   "id": "0fa47e28-fc85-40a5-ac76-32185cd64335",
   "metadata": {},
   "outputs": [
    {
     "data": {
      "application/javascript": [
       "\n",
       "        if (window._pyforest_update_imports_cell) { window._pyforest_update_imports_cell('import pandas as pd'); }\n",
       "    "
      ],
      "text/plain": [
       "<IPython.core.display.Javascript object>"
      ]
     },
     "metadata": {},
     "output_type": "display_data"
    }
   ],
   "source": [
    "air_aware_data = pd.read_csv(r\"C:\\Users\\Dell\\Downloads\\Air_Quality\\main\\Dataset_AQI4-5 - Copy.csv\")"
   ]
  },
  {
   "cell_type": "code",
   "execution_count": 4,
   "id": "de6f66fa-3e68-43f2-8495-6056088f89f7",
   "metadata": {},
   "outputs": [
    {
     "data": {
      "application/javascript": [
       "\n",
       "        if (window._pyforest_update_imports_cell) { window._pyforest_update_imports_cell('import pandas as pd'); }\n",
       "    "
      ],
      "text/plain": [
       "<IPython.core.display.Javascript object>"
      ]
     },
     "metadata": {},
     "output_type": "display_data"
    }
   ],
   "source": [
    "# Convert 'Date' or 'Datetime' column to datetime\n",
    "# If your file has a 'Date' column (like city_day.csv in the India AQI dataset)\n",
    "air_aware_data['Time'] = pd.to_datetime(air_aware_data['Time'], dayfirst=True, errors='coerce')\n",
    "air_aware_data.rename(columns={'Time': 'timestamp'}, inplace=True)"
   ]
  },
  {
   "cell_type": "code",
   "execution_count": 5,
   "id": "6aa63bc2-7061-4ec3-ab7e-c98c21bd68ca",
   "metadata": {},
   "outputs": [
    {
     "name": "stdout",
     "output_type": "stream",
     "text": [
      "Index(['City', 'AQI', 'PM2.5', 'PM10', 'O3', 'NO2', 'SO2', 'CO', 'Latitude',\n",
      "       'Longitude', 'timestamp'],\n",
      "      dtype='object')\n"
     ]
    },
    {
     "data": {
      "text/html": [
       "<div>\n",
       "<style scoped>\n",
       "    .dataframe tbody tr th:only-of-type {\n",
       "        vertical-align: middle;\n",
       "    }\n",
       "\n",
       "    .dataframe tbody tr th {\n",
       "        vertical-align: top;\n",
       "    }\n",
       "\n",
       "    .dataframe thead th {\n",
       "        text-align: right;\n",
       "    }\n",
       "</style>\n",
       "<table border=\"1\" class=\"dataframe\">\n",
       "  <thead>\n",
       "    <tr style=\"text-align: right;\">\n",
       "      <th></th>\n",
       "      <th>City</th>\n",
       "      <th>AQI</th>\n",
       "      <th>PM2.5</th>\n",
       "      <th>PM10</th>\n",
       "      <th>O3</th>\n",
       "      <th>NO2</th>\n",
       "      <th>SO2</th>\n",
       "      <th>CO</th>\n",
       "      <th>Latitude</th>\n",
       "      <th>Longitude</th>\n",
       "      <th>timestamp</th>\n",
       "    </tr>\n",
       "  </thead>\n",
       "  <tbody>\n",
       "    <tr>\n",
       "      <th>0</th>\n",
       "      <td>Gulzarpet, Anantapur, India</td>\n",
       "      <td>88</td>\n",
       "      <td>88.0</td>\n",
       "      <td>71.0</td>\n",
       "      <td>26.3</td>\n",
       "      <td>4.6</td>\n",
       "      <td>2.4</td>\n",
       "      <td>6.5</td>\n",
       "      <td>14.675886</td>\n",
       "      <td>77.593027</td>\n",
       "      <td>2024-04-05 18:00:00</td>\n",
       "    </tr>\n",
       "    <tr>\n",
       "      <th>1</th>\n",
       "      <td>Anand Kala Kshetram, Rajamahendravaram, India</td>\n",
       "      <td>58</td>\n",
       "      <td>58.0</td>\n",
       "      <td>45.0</td>\n",
       "      <td>14.6</td>\n",
       "      <td>12.0</td>\n",
       "      <td>6.9</td>\n",
       "      <td>6.7</td>\n",
       "      <td>16.987287</td>\n",
       "      <td>81.736318</td>\n",
       "      <td>2024-04-05 18:00:00</td>\n",
       "    </tr>\n",
       "    <tr>\n",
       "      <th>2</th>\n",
       "      <td>Tirumala-APPCB, Tirupati, India</td>\n",
       "      <td>110</td>\n",
       "      <td>110.0</td>\n",
       "      <td>53.0</td>\n",
       "      <td>15.0</td>\n",
       "      <td>13.8</td>\n",
       "      <td>1.8</td>\n",
       "      <td>9.0</td>\n",
       "      <td>13.670000</td>\n",
       "      <td>79.350000</td>\n",
       "      <td>2024-04-05 18:00:00</td>\n",
       "    </tr>\n",
       "    <tr>\n",
       "      <th>3</th>\n",
       "      <td>PWD Grounds, Vijayawada, India</td>\n",
       "      <td>-</td>\n",
       "      <td>52.0</td>\n",
       "      <td>NaN</td>\n",
       "      <td>5.1</td>\n",
       "      <td>0.7</td>\n",
       "      <td>4.9</td>\n",
       "      <td>4.2</td>\n",
       "      <td>16.507014</td>\n",
       "      <td>80.627767</td>\n",
       "      <td>NaT</td>\n",
       "    </tr>\n",
       "    <tr>\n",
       "      <th>4</th>\n",
       "      <td>Naharlagun, Naharlagun, India</td>\n",
       "      <td>53</td>\n",
       "      <td>53.0</td>\n",
       "      <td>18.0</td>\n",
       "      <td>1.0</td>\n",
       "      <td>1.1</td>\n",
       "      <td>1.6</td>\n",
       "      <td>2.4</td>\n",
       "      <td>27.103358</td>\n",
       "      <td>93.679645</td>\n",
       "      <td>2024-04-05 09:00:00</td>\n",
       "    </tr>\n",
       "  </tbody>\n",
       "</table>\n",
       "</div>"
      ],
      "text/plain": [
       "                                            City  AQI  PM2.5  PM10    O3  \\\n",
       "0                    Gulzarpet, Anantapur, India   88   88.0  71.0  26.3   \n",
       "1  Anand Kala Kshetram, Rajamahendravaram, India   58   58.0  45.0  14.6   \n",
       "2                Tirumala-APPCB, Tirupati, India  110  110.0  53.0  15.0   \n",
       "3                 PWD Grounds, Vijayawada, India    -   52.0   NaN   5.1   \n",
       "4                  Naharlagun, Naharlagun, India   53   53.0  18.0   1.0   \n",
       "\n",
       "    NO2  SO2   CO   Latitude  Longitude           timestamp  \n",
       "0   4.6  2.4  6.5  14.675886  77.593027 2024-04-05 18:00:00  \n",
       "1  12.0  6.9  6.7  16.987287  81.736318 2024-04-05 18:00:00  \n",
       "2  13.8  1.8  9.0  13.670000  79.350000 2024-04-05 18:00:00  \n",
       "3   0.7  4.9  4.2  16.507014  80.627767                 NaT  \n",
       "4   1.1  1.6  2.4  27.103358  93.679645 2024-04-05 09:00:00  "
      ]
     },
     "execution_count": 5,
     "metadata": {},
     "output_type": "execute_result"
    }
   ],
   "source": [
    "print(air_aware_data.columns)\n",
    "air_aware_data.head()"
   ]
  },
  {
   "cell_type": "code",
   "execution_count": 6,
   "id": "d009427d-52ad-47cf-b086-e77f268efa79",
   "metadata": {},
   "outputs": [
    {
     "name": "stdout",
     "output_type": "stream",
     "text": [
      "Info:\n",
      "<class 'pandas.core.frame.DataFrame'>\n",
      "RangeIndex: 153 entries, 0 to 152\n",
      "Data columns (total 11 columns):\n",
      " #   Column     Non-Null Count  Dtype         \n",
      "---  ------     --------------  -----         \n",
      " 0   City       153 non-null    object        \n",
      " 1   AQI        153 non-null    object        \n",
      " 2   PM2.5      147 non-null    float64       \n",
      " 3   PM10       136 non-null    float64       \n",
      " 4   O3         133 non-null    float64       \n",
      " 5   NO2        140 non-null    float64       \n",
      " 6   SO2        136 non-null    float64       \n",
      " 7   CO         133 non-null    float64       \n",
      " 8   Latitude   153 non-null    float64       \n",
      " 9   Longitude  153 non-null    float64       \n",
      " 10  timestamp  142 non-null    datetime64[ns]\n",
      "dtypes: datetime64[ns](1), float64(8), object(2)\n",
      "memory usage: 13.3+ KB\n"
     ]
    },
    {
     "data": {
      "text/plain": [
       "None"
      ]
     },
     "metadata": {},
     "output_type": "display_data"
    },
    {
     "name": "stdout",
     "output_type": "stream",
     "text": [
      "Missing values per columns:\n"
     ]
    },
    {
     "data": {
      "text/plain": [
       "City          0\n",
       "AQI           0\n",
       "PM2.5         6\n",
       "PM10         17\n",
       "O3           20\n",
       "NO2          13\n",
       "SO2          17\n",
       "CO           20\n",
       "Latitude      0\n",
       "Longitude     0\n",
       "timestamp    11\n",
       "dtype: int64"
      ]
     },
     "metadata": {},
     "output_type": "display_data"
    },
    {
     "name": "stdout",
     "output_type": "stream",
     "text": [
      "Descriptive stats:\n"
     ]
    },
    {
     "data": {
      "text/html": [
       "<div>\n",
       "<style scoped>\n",
       "    .dataframe tbody tr th:only-of-type {\n",
       "        vertical-align: middle;\n",
       "    }\n",
       "\n",
       "    .dataframe tbody tr th {\n",
       "        vertical-align: top;\n",
       "    }\n",
       "\n",
       "    .dataframe thead th {\n",
       "        text-align: right;\n",
       "    }\n",
       "</style>\n",
       "<table border=\"1\" class=\"dataframe\">\n",
       "  <thead>\n",
       "    <tr style=\"text-align: right;\">\n",
       "      <th></th>\n",
       "      <th>count</th>\n",
       "      <th>unique</th>\n",
       "      <th>top</th>\n",
       "      <th>freq</th>\n",
       "      <th>mean</th>\n",
       "      <th>min</th>\n",
       "      <th>25%</th>\n",
       "      <th>50%</th>\n",
       "      <th>75%</th>\n",
       "      <th>max</th>\n",
       "      <th>std</th>\n",
       "    </tr>\n",
       "  </thead>\n",
       "  <tbody>\n",
       "    <tr>\n",
       "      <th>City</th>\n",
       "      <td>153</td>\n",
       "      <td>138</td>\n",
       "      <td>Sector 22, Chandigarh, India</td>\n",
       "      <td>4</td>\n",
       "      <td>NaN</td>\n",
       "      <td>NaN</td>\n",
       "      <td>NaN</td>\n",
       "      <td>NaN</td>\n",
       "      <td>NaN</td>\n",
       "      <td>NaN</td>\n",
       "      <td>NaN</td>\n",
       "    </tr>\n",
       "    <tr>\n",
       "      <th>AQI</th>\n",
       "      <td>153</td>\n",
       "      <td>95</td>\n",
       "      <td>54</td>\n",
       "      <td>4</td>\n",
       "      <td>NaN</td>\n",
       "      <td>NaN</td>\n",
       "      <td>NaN</td>\n",
       "      <td>NaN</td>\n",
       "      <td>NaN</td>\n",
       "      <td>NaN</td>\n",
       "      <td>NaN</td>\n",
       "    </tr>\n",
       "    <tr>\n",
       "      <th>PM2.5</th>\n",
       "      <td>147.0</td>\n",
       "      <td>NaN</td>\n",
       "      <td>NaN</td>\n",
       "      <td>NaN</td>\n",
       "      <td>107.034014</td>\n",
       "      <td>10.0</td>\n",
       "      <td>65.0</td>\n",
       "      <td>91.0</td>\n",
       "      <td>149.5</td>\n",
       "      <td>760.0</td>\n",
       "      <td>72.90944</td>\n",
       "    </tr>\n",
       "    <tr>\n",
       "      <th>PM10</th>\n",
       "      <td>136.0</td>\n",
       "      <td>NaN</td>\n",
       "      <td>NaN</td>\n",
       "      <td>NaN</td>\n",
       "      <td>75.176471</td>\n",
       "      <td>4.0</td>\n",
       "      <td>53.0</td>\n",
       "      <td>64.0</td>\n",
       "      <td>84.25</td>\n",
       "      <td>864.0</td>\n",
       "      <td>74.242733</td>\n",
       "    </tr>\n",
       "    <tr>\n",
       "      <th>O3</th>\n",
       "      <td>133.0</td>\n",
       "      <td>NaN</td>\n",
       "      <td>NaN</td>\n",
       "      <td>NaN</td>\n",
       "      <td>18.830827</td>\n",
       "      <td>0.1</td>\n",
       "      <td>5.7</td>\n",
       "      <td>14.1</td>\n",
       "      <td>25.2</td>\n",
       "      <td>220.6</td>\n",
       "      <td>22.275973</td>\n",
       "    </tr>\n",
       "    <tr>\n",
       "      <th>NO2</th>\n",
       "      <td>140.0</td>\n",
       "      <td>NaN</td>\n",
       "      <td>NaN</td>\n",
       "      <td>NaN</td>\n",
       "      <td>9.331429</td>\n",
       "      <td>0.1</td>\n",
       "      <td>2.375</td>\n",
       "      <td>5.4</td>\n",
       "      <td>10.5</td>\n",
       "      <td>198.0</td>\n",
       "      <td>17.800332</td>\n",
       "    </tr>\n",
       "    <tr>\n",
       "      <th>SO2</th>\n",
       "      <td>136.0</td>\n",
       "      <td>NaN</td>\n",
       "      <td>NaN</td>\n",
       "      <td>NaN</td>\n",
       "      <td>9.830882</td>\n",
       "      <td>0.1</td>\n",
       "      <td>3.6</td>\n",
       "      <td>5.3</td>\n",
       "      <td>10.9</td>\n",
       "      <td>124.4</td>\n",
       "      <td>14.282019</td>\n",
       "    </tr>\n",
       "    <tr>\n",
       "      <th>CO</th>\n",
       "      <td>133.0</td>\n",
       "      <td>NaN</td>\n",
       "      <td>NaN</td>\n",
       "      <td>NaN</td>\n",
       "      <td>6.801504</td>\n",
       "      <td>0.3</td>\n",
       "      <td>3.8</td>\n",
       "      <td>5.7</td>\n",
       "      <td>7.9</td>\n",
       "      <td>51.0</td>\n",
       "      <td>6.189935</td>\n",
       "    </tr>\n",
       "    <tr>\n",
       "      <th>Latitude</th>\n",
       "      <td>153.0</td>\n",
       "      <td>NaN</td>\n",
       "      <td>NaN</td>\n",
       "      <td>NaN</td>\n",
       "      <td>24.19184</td>\n",
       "      <td>8.514909</td>\n",
       "      <td>20.007328</td>\n",
       "      <td>25.204762</td>\n",
       "      <td>28.406963</td>\n",
       "      <td>53.58904</td>\n",
       "      <td>7.923528</td>\n",
       "    </tr>\n",
       "    <tr>\n",
       "      <th>Longitude</th>\n",
       "      <td>153.0</td>\n",
       "      <td>NaN</td>\n",
       "      <td>NaN</td>\n",
       "      <td>NaN</td>\n",
       "      <td>77.217768</td>\n",
       "      <td>-123.005934</td>\n",
       "      <td>75.9052</td>\n",
       "      <td>77.984321</td>\n",
       "      <td>84.663264</td>\n",
       "      <td>142.94797</td>\n",
       "      <td>22.282424</td>\n",
       "    </tr>\n",
       "    <tr>\n",
       "      <th>timestamp</th>\n",
       "      <td>142</td>\n",
       "      <td>NaN</td>\n",
       "      <td>NaN</td>\n",
       "      <td>NaN</td>\n",
       "      <td>2024-03-27 01:58:18.591549184</td>\n",
       "      <td>2022-01-12 17:00:00</td>\n",
       "      <td>2024-04-05 18:00:00</td>\n",
       "      <td>2024-04-05 18:00:00</td>\n",
       "      <td>2024-04-05 18:00:00</td>\n",
       "      <td>2024-04-05 21:00:00</td>\n",
       "      <td>NaN</td>\n",
       "    </tr>\n",
       "  </tbody>\n",
       "</table>\n",
       "</div>"
      ],
      "text/plain": [
       "           count unique                           top freq  \\\n",
       "City         153    138  Sector 22, Chandigarh, India    4   \n",
       "AQI          153     95                            54    4   \n",
       "PM2.5      147.0    NaN                           NaN  NaN   \n",
       "PM10       136.0    NaN                           NaN  NaN   \n",
       "O3         133.0    NaN                           NaN  NaN   \n",
       "NO2        140.0    NaN                           NaN  NaN   \n",
       "SO2        136.0    NaN                           NaN  NaN   \n",
       "CO         133.0    NaN                           NaN  NaN   \n",
       "Latitude   153.0    NaN                           NaN  NaN   \n",
       "Longitude  153.0    NaN                           NaN  NaN   \n",
       "timestamp    142    NaN                           NaN  NaN   \n",
       "\n",
       "                                    mean                  min  \\\n",
       "City                                 NaN                  NaN   \n",
       "AQI                                  NaN                  NaN   \n",
       "PM2.5                         107.034014                 10.0   \n",
       "PM10                           75.176471                  4.0   \n",
       "O3                             18.830827                  0.1   \n",
       "NO2                             9.331429                  0.1   \n",
       "SO2                             9.830882                  0.1   \n",
       "CO                              6.801504                  0.3   \n",
       "Latitude                        24.19184             8.514909   \n",
       "Longitude                      77.217768          -123.005934   \n",
       "timestamp  2024-03-27 01:58:18.591549184  2022-01-12 17:00:00   \n",
       "\n",
       "                           25%                  50%                  75%  \\\n",
       "City                       NaN                  NaN                  NaN   \n",
       "AQI                        NaN                  NaN                  NaN   \n",
       "PM2.5                     65.0                 91.0                149.5   \n",
       "PM10                      53.0                 64.0                84.25   \n",
       "O3                         5.7                 14.1                 25.2   \n",
       "NO2                      2.375                  5.4                 10.5   \n",
       "SO2                        3.6                  5.3                 10.9   \n",
       "CO                         3.8                  5.7                  7.9   \n",
       "Latitude             20.007328            25.204762            28.406963   \n",
       "Longitude              75.9052            77.984321            84.663264   \n",
       "timestamp  2024-04-05 18:00:00  2024-04-05 18:00:00  2024-04-05 18:00:00   \n",
       "\n",
       "                           max        std  \n",
       "City                       NaN        NaN  \n",
       "AQI                        NaN        NaN  \n",
       "PM2.5                    760.0   72.90944  \n",
       "PM10                     864.0  74.242733  \n",
       "O3                       220.6  22.275973  \n",
       "NO2                      198.0  17.800332  \n",
       "SO2                      124.4  14.282019  \n",
       "CO                        51.0   6.189935  \n",
       "Latitude              53.58904   7.923528  \n",
       "Longitude            142.94797  22.282424  \n",
       "timestamp  2024-04-05 21:00:00        NaN  "
      ]
     },
     "metadata": {},
     "output_type": "display_data"
    }
   ],
   "source": [
    "print(\"Info:\")\n",
    "display(air_aware_data.info())\n",
    "\n",
    "print(\"Missing values per columns:\")\n",
    "display(air_aware_data.isnull().sum())\n",
    "\n",
    "print(\"Descriptive stats:\")\n",
    "display(air_aware_data.describe(include='all').T)"
   ]
  },
  {
   "cell_type": "code",
   "execution_count": 7,
   "id": "7ef64e6d-e672-4aec-8cb9-8a113f00cb5a",
   "metadata": {},
   "outputs": [],
   "source": [
    "# Handle missing values, duplicates, and wrong data"
   ]
  },
  {
   "cell_type": "code",
   "execution_count": 8,
   "id": "e51623b4-b467-4f88-9987-bae329bfe97a",
   "metadata": {},
   "outputs": [],
   "source": [
    "# Drop duplicates\n",
    "air_aware_data.drop_duplicates(inplace=True)"
   ]
  },
  {
   "cell_type": "code",
   "execution_count": 9,
   "id": "aa02e5f4-7db3-4e32-a7e9-b3cf5bc55f01",
   "metadata": {},
   "outputs": [
    {
     "data": {
      "application/javascript": [
       "\n",
       "        if (window._pyforest_update_imports_cell) { window._pyforest_update_imports_cell('import pandas as pd'); }\n",
       "    "
      ],
      "text/plain": [
       "<IPython.core.display.Javascript object>"
      ]
     },
     "metadata": {},
     "output_type": "display_data"
    },
    {
     "data": {
      "application/javascript": [
       "\n",
       "        if (window._pyforest_update_imports_cell) { window._pyforest_update_imports_cell('import pandas as pd'); }\n",
       "    "
      ],
      "text/plain": [
       "<IPython.core.display.Javascript object>"
      ]
     },
     "metadata": {},
     "output_type": "display_data"
    },
    {
     "data": {
      "application/javascript": [
       "\n",
       "        if (window._pyforest_update_imports_cell) { window._pyforest_update_imports_cell('import pandas as pd'); }\n",
       "    "
      ],
      "text/plain": [
       "<IPython.core.display.Javascript object>"
      ]
     },
     "metadata": {},
     "output_type": "display_data"
    },
    {
     "data": {
      "application/javascript": [
       "\n",
       "        if (window._pyforest_update_imports_cell) { window._pyforest_update_imports_cell('import pandas as pd'); }\n",
       "    "
      ],
      "text/plain": [
       "<IPython.core.display.Javascript object>"
      ]
     },
     "metadata": {},
     "output_type": "display_data"
    },
    {
     "data": {
      "application/javascript": [
       "\n",
       "        if (window._pyforest_update_imports_cell) { window._pyforest_update_imports_cell('import pandas as pd'); }\n",
       "    "
      ],
      "text/plain": [
       "<IPython.core.display.Javascript object>"
      ]
     },
     "metadata": {},
     "output_type": "display_data"
    },
    {
     "data": {
      "application/javascript": [
       "\n",
       "        if (window._pyforest_update_imports_cell) { window._pyforest_update_imports_cell('import pandas as pd'); }\n",
       "    "
      ],
      "text/plain": [
       "<IPython.core.display.Javascript object>"
      ]
     },
     "metadata": {},
     "output_type": "display_data"
    },
    {
     "data": {
      "application/javascript": [
       "\n",
       "        if (window._pyforest_update_imports_cell) { window._pyforest_update_imports_cell('import pandas as pd'); }\n",
       "    "
      ],
      "text/plain": [
       "<IPython.core.display.Javascript object>"
      ]
     },
     "metadata": {},
     "output_type": "display_data"
    }
   ],
   "source": [
    "pollutant_cols = ['AQI', 'PM2.5', 'PM10', 'O3', 'NO2', 'SO2', 'CO']\n",
    "\n",
    "# covert columns to numeric, coercing errors to NaN\n",
    "for col in pollutant_cols:\n",
    "    air_aware_data[col] = pd.to_numeric(air_aware_data[col] ,errors = 'coerce')\n",
    "\n",
    "# Fill missing numeric values with median\n",
    "for col in pollutant_cols:\n",
    "    median_val = air_aware_data[col].median()\n",
    "    air_aware_data[col].fillna(median_val)\n",
    "\n",
    "# remove negative values if any\n",
    "for col in pollutant_cols:\n",
    "    air_aware_data = air_aware_data[air_aware_data[col] >= 0]"
   ]
  },
  {
   "cell_type": "code",
   "execution_count": 10,
   "id": "57a4e7a1-72ef-4438-a740-1d112bc2fda8",
   "metadata": {},
   "outputs": [],
   "source": [
    "# Exploratory Data Analysis(EDA)"
   ]
  },
  {
   "cell_type": "code",
   "execution_count": 11,
   "id": "7aa5d835-a35d-4ac9-adeb-ce98928daad5",
   "metadata": {},
   "outputs": [
    {
     "data": {
      "application/javascript": [
       "\n",
       "        if (window._pyforest_update_imports_cell) { window._pyforest_update_imports_cell('import matplotlib.pyplot as plt\\nimport pandas as pd'); }\n",
       "    "
      ],
      "text/plain": [
       "<IPython.core.display.Javascript object>"
      ]
     },
     "metadata": {},
     "output_type": "display_data"
    },
    {
     "data": {
      "application/javascript": [
       "\n",
       "        if (window._pyforest_update_imports_cell) { window._pyforest_update_imports_cell('import matplotlib.pyplot as plt\\nimport pandas as pd\\nimport seaborn as sns'); }\n",
       "    "
      ],
      "text/plain": [
       "<IPython.core.display.Javascript object>"
      ]
     },
     "metadata": {},
     "output_type": "display_data"
    },
    {
     "data": {
      "application/javascript": [
       "\n",
       "        if (window._pyforest_update_imports_cell) { window._pyforest_update_imports_cell('import matplotlib.pyplot as plt\\nimport pandas as pd\\nimport seaborn as sns'); }\n",
       "    "
      ],
      "text/plain": [
       "<IPython.core.display.Javascript object>"
      ]
     },
     "metadata": {},
     "output_type": "display_data"
    },
    {
     "data": {
      "application/javascript": [
       "\n",
       "        if (window._pyforest_update_imports_cell) { window._pyforest_update_imports_cell('import matplotlib.pyplot as plt\\nimport pandas as pd\\nimport seaborn as sns'); }\n",
       "    "
      ],
      "text/plain": [
       "<IPython.core.display.Javascript object>"
      ]
     },
     "metadata": {},
     "output_type": "display_data"
    },
    {
     "data": {
      "image/png": "[encoded data removed]",
      "text/plain": [
       "<Figure size 640x480 with 1 Axes>"
      ]
     },
     "metadata": {},
     "output_type": "display_data"
    },
    {
     "data": {
      "application/javascript": [
       "\n",
       "        if (window._pyforest_update_imports_cell) { window._pyforest_update_imports_cell('import matplotlib.pyplot as plt\\nimport pandas as pd\\nimport seaborn as sns'); }\n",
       "    "
      ],
      "text/plain": [
       "<IPython.core.display.Javascript object>"
      ]
     },
     "metadata": {},
     "output_type": "display_data"
    },
    {
     "data": {
      "application/javascript": [
       "\n",
       "        if (window._pyforest_update_imports_cell) { window._pyforest_update_imports_cell('import matplotlib.pyplot as plt\\nimport pandas as pd\\nimport seaborn as sns'); }\n",
       "    "
      ],
      "text/plain": [
       "<IPython.core.display.Javascript object>"
      ]
     },
     "metadata": {},
     "output_type": "display_data"
    },
    {
     "data": {
      "application/javascript": [
       "\n",
       "        if (window._pyforest_update_imports_cell) { window._pyforest_update_imports_cell('import matplotlib.pyplot as plt\\nimport pandas as pd\\nimport seaborn as sns'); }\n",
       "    "
      ],
      "text/plain": [
       "<IPython.core.display.Javascript object>"
      ]
     },
     "metadata": {},
     "output_type": "display_data"
    },
    {
     "data": {
      "application/javascript": [
       "\n",
       "        if (window._pyforest_update_imports_cell) { window._pyforest_update_imports_cell('import matplotlib.pyplot as plt\\nimport pandas as pd\\nimport seaborn as sns'); }\n",
       "    "
      ],
      "text/plain": [
       "<IPython.core.display.Javascript object>"
      ]
     },
     "metadata": {},
     "output_type": "display_data"
    },
    {
     "data": {
      "image/png": "[encoded data removed]",
      "text/plain": [
       "<Figure size 640x480 with 1 Axes>"
      ]
     },
     "metadata": {},
     "output_type": "display_data"
    },
    {
     "data": {
      "application/javascript": [
       "\n",
       "        if (window._pyforest_update_imports_cell) { window._pyforest_update_imports_cell('import matplotlib.pyplot as plt\\nimport pandas as pd\\nimport seaborn as sns'); }\n",
       "    "
      ],
      "text/plain": [
       "<IPython.core.display.Javascript object>"
      ]
     },
     "metadata": {},
     "output_type": "display_data"
    },
    {
     "data": {
      "application/javascript": [
       "\n",
       "        if (window._pyforest_update_imports_cell) { window._pyforest_update_imports_cell('import matplotlib.pyplot as plt\\nimport pandas as pd\\nimport seaborn as sns'); }\n",
       "    "
      ],
      "text/plain": [
       "<IPython.core.display.Javascript object>"
      ]
     },
     "metadata": {},
     "output_type": "display_data"
    },
    {
     "data": {
      "application/javascript": [
       "\n",
       "        if (window._pyforest_update_imports_cell) { window._pyforest_update_imports_cell('import matplotlib.pyplot as plt\\nimport pandas as pd\\nimport seaborn as sns'); }\n",
       "    "
      ],
      "text/plain": [
       "<IPython.core.display.Javascript object>"
      ]
     },
     "metadata": {},
     "output_type": "display_data"
    },
    {
     "data": {
      "application/javascript": [
       "\n",
       "        if (window._pyforest_update_imports_cell) { window._pyforest_update_imports_cell('import matplotlib.pyplot as plt\\nimport pandas as pd\\nimport seaborn as sns'); }\n",
       "    "
      ],
      "text/plain": [
       "<IPython.core.display.Javascript object>"
      ]
     },
     "metadata": {},
     "output_type": "display_data"
    },
    {
     "data": {
      "image/png": "[encoded data removed]",
      "text/plain": [
       "<Figure size 640x480 with 1 Axes>"
      ]
     },
     "metadata": {},
     "output_type": "display_data"
    },
    {
     "data": {
      "application/javascript": [
       "\n",
       "        if (window._pyforest_update_imports_cell) { window._pyforest_update_imports_cell('import matplotlib.pyplot as plt\\nimport pandas as pd\\nimport seaborn as sns'); }\n",
       "    "
      ],
      "text/plain": [
       "<IPython.core.display.Javascript object>"
      ]
     },
     "metadata": {},
     "output_type": "display_data"
    },
    {
     "data": {
      "application/javascript": [
       "\n",
       "        if (window._pyforest_update_imports_cell) { window._pyforest_update_imports_cell('import matplotlib.pyplot as plt\\nimport pandas as pd\\nimport seaborn as sns'); }\n",
       "    "
      ],
      "text/plain": [
       "<IPython.core.display.Javascript object>"
      ]
     },
     "metadata": {},
     "output_type": "display_data"
    },
    {
     "data": {
      "application/javascript": [
       "\n",
       "        if (window._pyforest_update_imports_cell) { window._pyforest_update_imports_cell('import matplotlib.pyplot as plt\\nimport pandas as pd\\nimport seaborn as sns'); }\n",
       "    "
      ],
      "text/plain": [
       "<IPython.core.display.Javascript object>"
      ]
     },
     "metadata": {},
     "output_type": "display_data"
    },
    {
     "data": {
      "application/javascript": [
       "\n",
       "        if (window._pyforest_update_imports_cell) { window._pyforest_update_imports_cell('import matplotlib.pyplot as plt\\nimport pandas as pd\\nimport seaborn as sns'); }\n",
       "    "
      ],
      "text/plain": [
       "<IPython.core.display.Javascript object>"
      ]
     },
     "metadata": {},
     "output_type": "display_data"
    },
    {
     "data": {
      "image/png": "[encoded data removed]",
      "text/plain": [
       "<Figure size 640x480 with 1 Axes>"
      ]
     },
     "metadata": {},
     "output_type": "display_data"
    },
    {
     "data": {
      "application/javascript": [
       "\n",
       "        if (window._pyforest_update_imports_cell) { window._pyforest_update_imports_cell('import matplotlib.pyplot as plt\\nimport pandas as pd\\nimport seaborn as sns'); }\n",
       "    "
      ],
      "text/plain": [
       "<IPython.core.display.Javascript object>"
      ]
     },
     "metadata": {},
     "output_type": "display_data"
    },
    {
     "data": {
      "application/javascript": [
       "\n",
       "        if (window._pyforest_update_imports_cell) { window._pyforest_update_imports_cell('import matplotlib.pyplot as plt\\nimport pandas as pd\\nimport seaborn as sns'); }\n",
       "    "
      ],
      "text/plain": [
       "<IPython.core.display.Javascript object>"
      ]
     },
     "metadata": {},
     "output_type": "display_data"
    },
    {
     "data": {
      "application/javascript": [
       "\n",
       "        if (window._pyforest_update_imports_cell) { window._pyforest_update_imports_cell('import matplotlib.pyplot as plt\\nimport pandas as pd\\nimport seaborn as sns'); }\n",
       "    "
      ],
      "text/plain": [
       "<IPython.core.display.Javascript object>"
      ]
     },
     "metadata": {},
     "output_type": "display_data"
    },
    {
     "data": {
      "application/javascript": [
       "\n",
       "        if (window._pyforest_update_imports_cell) { window._pyforest_update_imports_cell('import matplotlib.pyplot as plt\\nimport pandas as pd\\nimport seaborn as sns'); }\n",
       "    "
      ],
      "text/plain": [
       "<IPython.core.display.Javascript object>"
      ]
     },
     "metadata": {},
     "output_type": "display_data"
    },
    {
     "data": {
      "image/png": "[encoded data removed]",
      "text/plain": [
       "<Figure size 640x480 with 1 Axes>"
      ]
     },
     "metadata": {},
     "output_type": "display_data"
    },
    {
     "data": {
      "application/javascript": [
       "\n",
       "        if (window._pyforest_update_imports_cell) { window._pyforest_update_imports_cell('import matplotlib.pyplot as plt\\nimport pandas as pd\\nimport seaborn as sns'); }\n",
       "    "
      ],
      "text/plain": [
       "<IPython.core.display.Javascript object>"
      ]
     },
     "metadata": {},
     "output_type": "display_data"
    },
    {
     "data": {
      "application/javascript": [
       "\n",
       "        if (window._pyforest_update_imports_cell) { window._pyforest_update_imports_cell('import matplotlib.pyplot as plt\\nimport pandas as pd\\nimport seaborn as sns'); }\n",
       "    "
      ],
      "text/plain": [
       "<IPython.core.display.Javascript object>"
      ]
     },
     "metadata": {},
     "output_type": "display_data"
    },
    {
     "data": {
      "application/javascript": [
       "\n",
       "        if (window._pyforest_update_imports_cell) { window._pyforest_update_imports_cell('import matplotlib.pyplot as plt\\nimport pandas as pd\\nimport seaborn as sns'); }\n",
       "    "
      ],
      "text/plain": [
       "<IPython.core.display.Javascript object>"
      ]
     },
     "metadata": {},
     "output_type": "display_data"
    },
    {
     "data": {
      "application/javascript": [
       "\n",
       "        if (window._pyforest_update_imports_cell) { window._pyforest_update_imports_cell('import matplotlib.pyplot as plt\\nimport pandas as pd\\nimport seaborn as sns'); }\n",
       "    "
      ],
      "text/plain": [
       "<IPython.core.display.Javascript object>"
      ]
     },
     "metadata": {},
     "output_type": "display_data"
    },
    {
     "data": {
      "image/png": "[encoded data removed]",
      "text/plain": [
       "<Figure size 640x480 with 1 Axes>"
      ]
     },
     "metadata": {},
     "output_type": "display_data"
    },
    {
     "data": {
      "application/javascript": [
       "\n",
       "        if (window._pyforest_update_imports_cell) { window._pyforest_update_imports_cell('import matplotlib.pyplot as plt\\nimport pandas as pd\\nimport seaborn as sns'); }\n",
       "    "
      ],
      "text/plain": [
       "<IPython.core.display.Javascript object>"
      ]
     },
     "metadata": {},
     "output_type": "display_data"
    },
    {
     "data": {
      "application/javascript": [
       "\n",
       "        if (window._pyforest_update_imports_cell) { window._pyforest_update_imports_cell('import matplotlib.pyplot as plt\\nimport pandas as pd\\nimport seaborn as sns'); }\n",
       "    "
      ],
      "text/plain": [
       "<IPython.core.display.Javascript object>"
      ]
     },
     "metadata": {},
     "output_type": "display_data"
    },
    {
     "data": {
      "application/javascript": [
       "\n",
       "        if (window._pyforest_update_imports_cell) { window._pyforest_update_imports_cell('import matplotlib.pyplot as plt\\nimport pandas as pd\\nimport seaborn as sns'); }\n",
       "    "
      ],
      "text/plain": [
       "<IPython.core.display.Javascript object>"
      ]
     },
     "metadata": {},
     "output_type": "display_data"
    },
    {
     "data": {
      "application/javascript": [
       "\n",
       "        if (window._pyforest_update_imports_cell) { window._pyforest_update_imports_cell('import matplotlib.pyplot as plt\\nimport pandas as pd\\nimport seaborn as sns'); }\n",
       "    "
      ],
      "text/plain": [
       "<IPython.core.display.Javascript object>"
      ]
     },
     "metadata": {},
     "output_type": "display_data"
    },
    {
     "data": {
      "image/png": "[encoded data removed]",
      "text/plain": [
       "<Figure size 640x480 with 1 Axes>"
      ]
     },
     "metadata": {},
     "output_type": "display_data"
    }
   ],
   "source": [
    "for col in pollutant_cols:\n",
    "    plt.figure(figure=(6,4))\n",
    "    sns.histplot(air_aware_data[col] , bins = 30 , kde = True)\n",
    "    plt.title(f'Distribution of {col}')\n",
    "    plt.show()\n",
    "    "
   ]
  },
  {
   "cell_type": "code",
   "execution_count": 12,
   "id": "8ea071f6-30e7-4b5b-acdc-9a1fb156dae9",
   "metadata": {},
   "outputs": [],
   "source": [
    "# Feature Scaling"
   ]
  },
  {
   "cell_type": "code",
   "execution_count": 13,
   "id": "81f8cb4e-bf59-4a74-957e-7492b25c9313",
   "metadata": {},
   "outputs": [
    {
     "data": {
      "application/javascript": [
       "\n",
       "        if (window._pyforest_update_imports_cell) { window._pyforest_update_imports_cell('from sklearn.preprocessing import MinMaxScaler\\nimport matplotlib.pyplot as plt\\nimport pandas as pd\\nimport seaborn as sns'); }\n",
       "    "
      ],
      "text/plain": [
       "<IPython.core.display.Javascript object>"
      ]
     },
     "metadata": {},
     "output_type": "display_data"
    },
    {
     "name": "stdout",
     "output_type": "stream",
     "text": [
      "Scaled data sample:\n",
      "                                             City       AQI     PM2.5  \\\n",
      "0                    Gulzarpet, Anantapur, India  0.087059  0.085714   \n",
      "1  Anand Kala Kshetram, Rajamahendravaram, India  0.051765  0.044898   \n",
      "2                Tirumala-APPCB, Tirupati, India  0.112941  0.115646   \n",
      "4                  Naharlagun, Naharlagun, India  0.045882  0.038095   \n",
      "5                    Pan Bazaar, Guwahati, India  0.108235  0.089796   \n",
      "\n",
      "       PM10        O3       NO2       SO2        CO   Latitude  Longitude  \\\n",
      "0  0.062648  0.117219  0.132743  0.018504  0.161458  14.675886  77.593027   \n",
      "1  0.031915  0.064062  0.351032  0.054706  0.166667  16.987287  81.736318   \n",
      "2  0.041371  0.065879  0.404130  0.013677  0.226562  13.670000  79.350000   \n",
      "4  0.000000  0.002272  0.029499  0.012068  0.054687  27.103358  93.679645   \n",
      "5  0.104019  0.029986  0.047198  0.204344  0.145833  26.187500  91.744194   \n",
      "\n",
      "            timestamp  \n",
      "0 2024-04-05 18:00:00  \n",
      "1 2024-04-05 18:00:00  \n",
      "2 2024-04-05 18:00:00  \n",
      "4 2024-04-05 09:00:00  \n",
      "5 2024-04-05 18:00:00  \n"
     ]
    }
   ],
   "source": [
    "# Scale all numeric pollutant columns between 0 and 1\n",
    "scaler = MinMaxScaler()\n",
    "air_aware_data[pollutant_cols] = scaler.fit_transform(air_aware_data[pollutant_cols])\n",
    "\n",
    "print(\"Scaled data sample:\\n\", air_aware_data.head())"
   ]
  },
  {
   "cell_type": "code",
   "execution_count": 14,
   "id": "b7949246-548e-4d27-afe7-44a8e3f081d9",
   "metadata": {},
   "outputs": [
    {
     "name": "stdout",
     "output_type": "stream",
     "text": [
      "Feature sample:\n",
      "       PM2.5      PM10        O3       NO2       SO2        CO\n",
      "0  0.085714  0.062648  0.117219  0.132743  0.018504  0.161458\n",
      "1  0.044898  0.031915  0.064062  0.351032  0.054706  0.166667\n",
      "2  0.115646  0.041371  0.065879  0.404130  0.013677  0.226562\n",
      "4  0.038095  0.000000  0.002272  0.029499  0.012068  0.054687\n",
      "5  0.089796  0.104019  0.029986  0.047198  0.204344  0.145833\n",
      "Target sample:\n",
      " 0    0.087059\n",
      "1    0.051765\n",
      "2    0.112941\n",
      "4    0.045882\n",
      "5    0.108235\n",
      "Name: AQI, dtype: float64\n"
     ]
    }
   ],
   "source": [
    "# Features and target\n",
    "X = air_aware_data[['PM2.5', 'PM10', 'O3', 'NO2', 'SO2', 'CO']]\n",
    "y = air_aware_data['AQI']\n",
    "\n",
    "print(\"Feature sample:\\n\", X.head())\n",
    "print(\"Target sample:\\n\", y.head())"
   ]
  },
  {
   "cell_type": "code",
   "execution_count": 15,
   "id": "651ee20d-f680-4d2b-9dad-97a8e5df5db1",
   "metadata": {},
   "outputs": [],
   "source": [
    "air_aware_data.to_csv(\"cleaned_air_aware_data.csv\", index=False)"
   ]
  },
  {
   "cell_type": "code",
   "execution_count": 16,
   "id": "cb01ba39-8953-46d2-9e4c-0278956c4804",
   "metadata": {},
   "outputs": [
    {
     "data": {
      "application/javascript": [
       "\n",
       "        if (window._pyforest_update_imports_cell) { window._pyforest_update_imports_cell('from sklearn.preprocessing import MinMaxScaler\\nimport matplotlib.pyplot as plt\\nimport pandas as pd\\nimport seaborn as sns'); }\n",
       "    "
      ],
      "text/plain": [
       "<IPython.core.display.Javascript object>"
      ]
     },
     "metadata": {},
     "output_type": "display_data"
    },
    {
     "data": {
      "text/html": [
       "<div>\n",
       "<style scoped>\n",
       "    .dataframe tbody tr th:only-of-type {\n",
       "        vertical-align: middle;\n",
       "    }\n",
       "\n",
       "    .dataframe tbody tr th {\n",
       "        vertical-align: top;\n",
       "    }\n",
       "\n",
       "    .dataframe thead th {\n",
       "        text-align: right;\n",
       "    }\n",
       "</style>\n",
       "<table border=\"1\" class=\"dataframe\">\n",
       "  <thead>\n",
       "    <tr style=\"text-align: right;\">\n",
       "      <th></th>\n",
       "      <th>City</th>\n",
       "      <th>AQI</th>\n",
       "      <th>PM2.5</th>\n",
       "      <th>PM10</th>\n",
       "      <th>O3</th>\n",
       "      <th>NO2</th>\n",
       "      <th>SO2</th>\n",
       "      <th>CO</th>\n",
       "      <th>Latitude</th>\n",
       "      <th>Longitude</th>\n",
       "      <th>timestamp</th>\n",
       "    </tr>\n",
       "  </thead>\n",
       "  <tbody>\n",
       "    <tr>\n",
       "      <th>0</th>\n",
       "      <td>Gulzarpet, Anantapur, India</td>\n",
       "      <td>0.087059</td>\n",
       "      <td>0.085714</td>\n",
       "      <td>0.062648</td>\n",
       "      <td>0.117219</td>\n",
       "      <td>0.132743</td>\n",
       "      <td>0.018504</td>\n",
       "      <td>0.161458</td>\n",
       "      <td>14.675886</td>\n",
       "      <td>77.593027</td>\n",
       "      <td>2024-04-05 18:00:00</td>\n",
       "    </tr>\n",
       "    <tr>\n",
       "      <th>1</th>\n",
       "      <td>Anand Kala Kshetram, Rajamahendravaram, India</td>\n",
       "      <td>0.051765</td>\n",
       "      <td>0.044898</td>\n",
       "      <td>0.031915</td>\n",
       "      <td>0.064062</td>\n",
       "      <td>0.351032</td>\n",
       "      <td>0.054706</td>\n",
       "      <td>0.166667</td>\n",
       "      <td>16.987287</td>\n",
       "      <td>81.736318</td>\n",
       "      <td>2024-04-05 18:00:00</td>\n",
       "    </tr>\n",
       "    <tr>\n",
       "      <th>2</th>\n",
       "      <td>Tirumala-APPCB, Tirupati, India</td>\n",
       "      <td>0.112941</td>\n",
       "      <td>0.115646</td>\n",
       "      <td>0.041371</td>\n",
       "      <td>0.065879</td>\n",
       "      <td>0.404130</td>\n",
       "      <td>0.013677</td>\n",
       "      <td>0.226562</td>\n",
       "      <td>13.670000</td>\n",
       "      <td>79.350000</td>\n",
       "      <td>2024-04-05 18:00:00</td>\n",
       "    </tr>\n",
       "    <tr>\n",
       "      <th>3</th>\n",
       "      <td>Naharlagun, Naharlagun, India</td>\n",
       "      <td>0.045882</td>\n",
       "      <td>0.038095</td>\n",
       "      <td>0.000000</td>\n",
       "      <td>0.002272</td>\n",
       "      <td>0.029499</td>\n",
       "      <td>0.012068</td>\n",
       "      <td>0.054687</td>\n",
       "      <td>27.103358</td>\n",
       "      <td>93.679645</td>\n",
       "      <td>2024-04-05 09:00:00</td>\n",
       "    </tr>\n",
       "    <tr>\n",
       "      <th>4</th>\n",
       "      <td>Pan Bazaar, Guwahati, India</td>\n",
       "      <td>0.108235</td>\n",
       "      <td>0.089796</td>\n",
       "      <td>0.104019</td>\n",
       "      <td>0.029986</td>\n",
       "      <td>0.047198</td>\n",
       "      <td>0.204344</td>\n",
       "      <td>0.145833</td>\n",
       "      <td>26.187500</td>\n",
       "      <td>91.744194</td>\n",
       "      <td>2024-04-05 18:00:00</td>\n",
       "    </tr>\n",
       "  </tbody>\n",
       "</table>\n",
       "</div>"
      ],
      "text/plain": [
       "                                            City       AQI     PM2.5  \\\n",
       "0                    Gulzarpet, Anantapur, India  0.087059  0.085714   \n",
       "1  Anand Kala Kshetram, Rajamahendravaram, India  0.051765  0.044898   \n",
       "2                Tirumala-APPCB, Tirupati, India  0.112941  0.115646   \n",
       "3                  Naharlagun, Naharlagun, India  0.045882  0.038095   \n",
       "4                    Pan Bazaar, Guwahati, India  0.108235  0.089796   \n",
       "\n",
       "       PM10        O3       NO2       SO2        CO   Latitude  Longitude  \\\n",
       "0  0.062648  0.117219  0.132743  0.018504  0.161458  14.675886  77.593027   \n",
       "1  0.031915  0.064062  0.351032  0.054706  0.166667  16.987287  81.736318   \n",
       "2  0.041371  0.065879  0.404130  0.013677  0.226562  13.670000  79.350000   \n",
       "3  0.000000  0.002272  0.029499  0.012068  0.054687  27.103358  93.679645   \n",
       "4  0.104019  0.029986  0.047198  0.204344  0.145833  26.187500  91.744194   \n",
       "\n",
       "             timestamp  \n",
       "0  2024-04-05 18:00:00  \n",
       "1  2024-04-05 18:00:00  \n",
       "2  2024-04-05 18:00:00  \n",
       "3  2024-04-05 09:00:00  \n",
       "4  2024-04-05 18:00:00  "
      ]
     },
     "execution_count": 16,
     "metadata": {},
     "output_type": "execute_result"
    }
   ],
   "source": [
    "# Load your cleaned dataset\n",
    "air_aware_data= pd.read_csv(\"C:/Users/Dell/Downloads/Infosys classes/cleaned_air_aware_data.csv\")\n",
    "\n",
    "air_aware_data.head()"
   ]
  },
  {
   "cell_type": "code",
   "execution_count": 17,
   "id": "18fb698b-0733-4e2d-972c-bad88e6706d7",
   "metadata": {},
   "outputs": [],
   "source": [
    "# STEP 3 : EXPLORING THE DATA"
   ]
  },
  {
   "cell_type": "code",
   "execution_count": 18,
   "id": "9c8420d6-3b1c-4a2e-9e2f-56cf9c01da57",
   "metadata": {},
   "outputs": [
    {
     "name": "stdout",
     "output_type": "stream",
     "text": [
      "              AQI       PM2.5        PM10          O3         NO2         SO2  \\\n",
      "count  103.000000  103.000000  103.000000  103.000000  103.000000  103.000000   \n",
      "mean     0.118275    0.118050    0.073860    0.080744    0.254776    0.082981   \n",
      "std      0.103572    0.106611    0.098060    0.106951    0.233068    0.125436   \n",
      "min      0.000000    0.000000    0.000000    0.000000    0.000000    0.000000   \n",
      "25%      0.065882    0.061224    0.043735    0.025443    0.075221    0.029364   \n",
      "50%      0.092941    0.089796    0.056738    0.064062    0.203540    0.042639   \n",
      "75%      0.160588    0.166667    0.079787    0.104271    0.337758    0.087289   \n",
      "max      1.000000    1.000000    1.000000    1.000000    1.000000    1.000000   \n",
      "\n",
      "               CO    Latitude   Longitude  \n",
      "count  103.000000  103.000000  103.000000  \n",
      "mean     0.153418   23.102884   80.406236  \n",
      "std      0.121090    6.189839    5.606724  \n",
      "min      0.000000    8.514909   72.591912  \n",
      "25%      0.087240   19.992429   76.133182  \n",
      "50%      0.127604   25.323930   77.984321  \n",
      "75%      0.190104   26.860030   84.941429  \n",
      "max      1.000000   34.066206   94.098988  \n",
      "City         0\n",
      "AQI          0\n",
      "PM2.5        0\n",
      "PM10         0\n",
      "O3           0\n",
      "NO2          0\n",
      "SO2          0\n",
      "CO           0\n",
      "Latitude     0\n",
      "Longitude    0\n",
      "timestamp    5\n",
      "dtype: int64\n"
     ]
    },
    {
     "name": "stderr",
     "output_type": "stream",
     "text": [
      "C:\\Users\\Dell\\AppData\\Local\\Temp\\ipykernel_9200\\3342228438.py:8: FutureWarning: DataFrame.fillna with 'method' is deprecated and will raise in a future version. Use obj.ffill() or obj.bfill() instead.\n",
      "  air_aware_data = air_aware_data.fillna(method='ffill')\n"
     ]
    }
   ],
   "source": [
    "# Basic stats\n",
    "print(air_aware_data.describe())\n",
    "\n",
    "# Check for missing values\n",
    "print(air_aware_data.isnull().sum())\n",
    "\n",
    "# Handle missing data if any\n",
    "air_aware_data = air_aware_data.fillna(method='ffill')"
   ]
  },
  {
   "cell_type": "code",
   "execution_count": 19,
   "id": "e7e842dd-2b0f-448f-bef6-ea4cf7cf136b",
   "metadata": {},
   "outputs": [],
   "source": [
    "# STEP 4: SPLITTING THE DATA INTO TRAIN AND TEST DATA"
   ]
  },
  {
   "cell_type": "code",
   "execution_count": 20,
   "id": "15ea2707-0792-4c93-a0a3-d40e9e3f0801",
   "metadata": {},
   "outputs": [
    {
     "data": {
      "application/javascript": [
       "\n",
       "        if (window._pyforest_update_imports_cell) { window._pyforest_update_imports_cell('from sklearn.model_selection import train_test_split\\nimport pandas as pd\\nfrom sklearn.preprocessing import MinMaxScaler\\nimport matplotlib.pyplot as plt\\nimport seaborn as sns'); }\n",
       "    "
      ],
      "text/plain": [
       "<IPython.core.display.Javascript object>"
      ]
     },
     "metadata": {},
     "output_type": "display_data"
    },
    {
     "data": {
      "application/javascript": [
       "\n",
       "        if (window._pyforest_update_imports_cell) { window._pyforest_update_imports_cell('from sklearn.model_selection import train_test_split\\nimport pandas as pd\\nfrom sklearn.preprocessing import MinMaxScaler\\nimport matplotlib.pyplot as plt\\nfrom sklearn.preprocessing import StandardScaler\\nimport seaborn as sns'); }\n",
       "    "
      ],
      "text/plain": [
       "<IPython.core.display.Javascript object>"
      ]
     },
     "metadata": {},
     "output_type": "display_data"
    }
   ],
   "source": [
    "# Select features and target\n",
    "X = air_aware_data[['PM2.5', 'PM10', 'O3', 'NO2', 'SO2', 'CO']]\n",
    "y = air_aware_data['AQI']\n",
    "\n",
    "# Split data into training and testing sets (80% training, 20% testing)\n",
    "X_train, X_test, y_train, y_test = train_test_split(\n",
    "    X, y, test_size=0.2, random_state=42, shuffle=False\n",
    ")\n",
    "\n",
    "# Scale features for models that need normalization\n",
    "scaler = StandardScaler()\n",
    "X_train_scaled = scaler.fit_transform(X_train)\n",
    "X_test_scaled = scaler.transform(X_test)"
   ]
  },
  {
   "cell_type": "code",
   "execution_count": 21,
   "id": "4277320a-cb78-487e-8e85-5998f8f7d16c",
   "metadata": {},
   "outputs": [],
   "source": [
    "# STEP 5: BUILDING EACH MODEL"
   ]
  },
  {
   "cell_type": "code",
   "execution_count": 22,
   "id": "3eec0e9a-0dba-4310-82c7-ffc2835bafec",
   "metadata": {},
   "outputs": [
    {
     "name": "stderr",
     "output_type": "stream",
     "text": [
      "C:\\Users\\Dell\\AppData\\Local\\Temp\\ipykernel_9200\\1210700943.py:7: FutureWarning: Series.fillna with 'method' is deprecated and will raise in a future version. Use obj.ffill() or obj.bfill() instead.\n",
      "  aqi_series = air_aware_data['AQI'].fillna(method='ffill')\n"
     ]
    },
    {
     "name": "stdout",
     "output_type": "stream",
     "text": [
      "ARIMA -> MAE: 0.04391701452324597  RMSE: 0.05272041136015657\n"
     ]
    }
   ],
   "source": [
    "# STEP 5.1: BUILDING ARIMA MODEL\n",
    "from statsmodels.tsa.arima.model import ARIMA\n",
    "from sklearn.metrics import mean_absolute_error, mean_squared_error\n",
    "import numpy as np\n",
    "\n",
    "# Prepare AQI as time series\n",
    "aqi_series = air_aware_data['AQI'].fillna(method='ffill')\n",
    "\n",
    "# Split into train and test (80-20)\n",
    "train_size = int(len(aqi_series) * 0.8)\n",
    "train, test = aqi_series[:train_size], aqi_series[train_size:]\n",
    "\n",
    "# Build and fit ARIMA model\n",
    "arima_model = ARIMA(train, order=(5, 1, 0))\n",
    "arima_fit = arima_model.fit()\n",
    "\n",
    "# Forecast\n",
    "forecast_arima = arima_fit.forecast(steps=len(test))\n",
    "\n",
    "# Evaluate\n",
    "rmse_arima = np.sqrt(mean_squared_error(test, forecast_arima))\n",
    "mae_arima = mean_absolute_error(test, forecast_arima)\n",
    "print(\"ARIMA -> MAE:\", mae_arima, \" RMSE:\", rmse_arima)"
   ]
  },
  {
   "cell_type": "code",
   "execution_count": 23,
   "id": "06181d41-9ec3-41e5-91f3-1d8133932c65",
   "metadata": {},
   "outputs": [
    {
     "data": {
      "application/javascript": [
       "\n",
       "        if (window._pyforest_update_imports_cell) { window._pyforest_update_imports_cell('from sklearn.model_selection import train_test_split\\nimport pandas as pd\\nfrom sklearn.preprocessing import MinMaxScaler\\nimport matplotlib.pyplot as plt\\nfrom sklearn.preprocessing import StandardScaler\\nimport seaborn as sns'); }\n",
       "    "
      ],
      "text/plain": [
       "<IPython.core.display.Javascript object>"
      ]
     },
     "metadata": {},
     "output_type": "display_data"
    },
    {
     "name": "stderr",
     "output_type": "stream",
     "text": [
      "16:59:04 - cmdstanpy - INFO - Chain [1] start processing\n",
      "16:59:05 - cmdstanpy - INFO - Chain [1] done processing\n"
     ]
    },
    {
     "name": "stdout",
     "output_type": "stream",
     "text": [
      "Prophet -> MAE: 0.054365144500240006  RMSE: 0.06407709710496219\n"
     ]
    }
   ],
   "source": [
    "# STEP 5.2: BUILDING PROPHET MODEL\n",
    "from prophet import Prophet\n",
    "\n",
    "# Create Prophet-compatible dataframe\n",
    "prophet_df = air_aware_data.copy()\n",
    "prophet_df['ds'] = pd.date_range(start='2020-01-01', periods=len(prophet_df), freq='D')\n",
    "prophet_df['y'] = prophet_df['AQI']\n",
    "\n",
    "# Split train and test\n",
    "train_prophet = prophet_df.iloc[:train_size]\n",
    "test_prophet = prophet_df.iloc[train_size:]\n",
    "\n",
    "# Build Prophet model\n",
    "prophet_model = Prophet()\n",
    "prophet_model.fit(train_prophet)\n",
    "\n",
    "# Forecast for the test period\n",
    "future = prophet_model.make_future_dataframe(periods=len(test_prophet))\n",
    "forecast_prophet = prophet_model.predict(future)\n",
    "\n",
    "# Extract forecasted values\n",
    "y_pred_prophet = forecast_prophet['yhat'][-len(test_prophet):]\n",
    "\n",
    "# Evaluate\n",
    "rmse_prophet = np.sqrt(mean_squared_error(test_prophet['y'], y_pred_prophet))\n",
    "mae_prophet = mean_absolute_error(test_prophet['y'], y_pred_prophet)\n",
    "print(\"Prophet -> MAE:\", mae_prophet, \" RMSE:\", rmse_prophet)"
   ]
  },
  {
   "cell_type": "code",
   "execution_count": 24,
   "id": "0e8ca387-66c6-4b49-8ab0-543e9e7a844b",
   "metadata": {},
   "outputs": [
    {
     "name": "stdout",
     "output_type": "stream",
     "text": [
      "XGBoost -> MAE: 0.007829376031704643  RMSE: 0.011022020524028554\n"
     ]
    }
   ],
   "source": [
    "# STEP 5.3: BUILDING XGBOOST MODEL\n",
    "from xgboost import XGBRegressor\n",
    "\n",
    "# Build and train XGBoost model\n",
    "xgb_model = XGBRegressor(\n",
    "    n_estimators=300,\n",
    "    learning_rate=0.05,\n",
    "    max_depth=5,\n",
    "    random_state=42\n",
    ")\n",
    "xgb_model.fit(X_train_scaled, y_train)\n",
    "\n",
    "# Predict\n",
    "y_pred_xgb = xgb_model.predict(X_test_scaled)\n",
    "\n",
    "# Evaluate\n",
    "rmse_xgb = np.sqrt(mean_squared_error(y_test, y_pred_xgb))\n",
    "mae_xgb = mean_absolute_error(y_test, y_pred_xgb)\n",
    "print(\"XGBoost -> MAE:\", mae_xgb, \" RMSE:\", rmse_xgb)"
   ]
  },
  {
   "cell_type": "code",
   "execution_count": 25,
   "id": "d4291cd1-b7be-484e-8fa3-3e6788550ce2",
   "metadata": {},
   "outputs": [],
   "source": [
    "# STEP 5.4: BUILDING LSTM MODEL\n"
   ]
  },
  {
   "cell_type": "code",
   "execution_count": 26,
   "id": "bfbdd178-389c-4031-b586-d9868523c82e",
   "metadata": {},
   "outputs": [],
   "source": [
    "# Load and Preprocess the Dataset\n",
    "from tensorflow.keras.callbacks import EarlyStopping\n"
   ]
  },
  {
   "cell_type": "code",
   "execution_count": 27,
   "id": "a0dbb332-6b94-47b9-9f15-b97978f75f23",
   "metadata": {},
   "outputs": [
    {
     "name": "stderr",
     "output_type": "stream",
     "text": [
      "C:\\Users\\Dell\\AppData\\Local\\Temp\\ipykernel_9200\\2840062389.py:8: FutureWarning: DataFrame.fillna with 'method' is deprecated and will raise in a future version. Use obj.ffill() or obj.bfill() instead.\n",
      "  df = df.fillna(method='ffill')\n"
     ]
    },
    {
     "data": {
      "application/javascript": [
       "\n",
       "        if (window._pyforest_update_imports_cell) { window._pyforest_update_imports_cell('from sklearn.model_selection import train_test_split\\nimport pandas as pd\\nfrom sklearn.preprocessing import MinMaxScaler\\nimport matplotlib.pyplot as plt\\nfrom sklearn.preprocessing import StandardScaler\\nimport seaborn as sns'); }\n",
       "    "
      ],
      "text/plain": [
       "<IPython.core.display.Javascript object>"
      ]
     },
     "metadata": {},
     "output_type": "display_data"
    }
   ],
   "source": [
    "# Example: Use your Air Quality DataFrame\n",
    "df = air_aware_data.copy()\n",
    "\n",
    "# Choose target variable (AQI or PM2.5)\n",
    "target_col = 'AQI'\n",
    "\n",
    "# Fill missing values\n",
    "df = df.fillna(method='ffill')\n",
    "\n",
    "# Normalize the target feature for LSTM\n",
    "scaler = MinMaxScaler()\n",
    "scaled_data = scaler.fit_transform(df[[target_col]])"
   ]
  },
  {
   "cell_type": "code",
   "execution_count": 28,
   "id": "b18af77c-5cb1-44ae-aed9-694da61f0932",
   "metadata": {},
   "outputs": [],
   "source": [
    "# Create Time Series Sequences\n",
    "def create_sequences(data, time_steps=24):\n",
    "    X, y = [], []\n",
    "    for i in range(len(data) - time_steps):\n",
    "        X.append(data[i:i + time_steps])\n",
    "        y.append(data[i + time_steps])\n",
    "    return np.array(X), np.array(y)\n",
    "\n",
    "# Use 24-hour window (or choose any lag)\n",
    "time_steps = 24\n",
    "X, y = create_sequences(scaled_data, time_steps)\n",
    "\n",
    "# Split into train and test sets (80-20)\n",
    "train_size = int(len(X) * 0.8)\n",
    "X_train, X_test = X[:train_size], X[train_size:]\n",
    "y_train, y_test = y[:train_size], y[train_size:]"
   ]
  },
  {
   "cell_type": "code",
   "execution_count": 29,
   "id": "23bc90a8-62ae-425b-880d-8f6c02cf596c",
   "metadata": {},
   "outputs": [
    {
     "name": "stderr",
     "output_type": "stream",
     "text": [
      "C:\\Users\\Dell\\AppData\\Local\\Programs\\Python\\Python311\\Lib\\site-packages\\keras\\src\\layers\\rnn\\rnn.py:204: UserWarning: Do not pass an `input_shape`/`input_dim` argument to a layer. When using Sequential models, prefer using an `Input(shape)` object as the first layer in the model instead.\n",
      "  super().__init__(**kwargs)\n"
     ]
    },
    {
     "data": {
      "text/html": [
       "<pre style=\"white-space:pre;overflow-x:auto;line-height:normal;font-family:Menlo,'DejaVu Sans Mono',consolas,'Courier New',monospace\"><span style=\"font-weight: bold\">Model: \"sequential\"</span>\n",
       "</pre>\n"
      ],
      "text/plain": [
       "\u001b[1mModel: \"sequential\"\u001b[0m\n"
      ]
     },
     "metadata": {},
     "output_type": "display_data"
    },
    {
     "data": {
      "text/html": [
       "<pre style=\"white-space:pre;overflow-x:auto;line-height:normal;font-family:Menlo,'DejaVu Sans Mono',consolas,'Courier New',monospace\">┏━━━━━━━━━━━━━━━━━━━━━━━━━━━━━━━━━━━━━━┳━━━━━━━━━━━━━━━━━━━━━━━━━━━━━┳━━━━━━━━━━━━━━━━━┓\n",
       "┃<span style=\"font-weight: bold\"> Layer (type)                         </span>┃<span style=\"font-weight: bold\"> Output Shape                </span>┃<span style=\"font-weight: bold\">         Param # </span>┃\n",
       "┡━━━━━━━━━━━━━━━━━━━━━━━━━━━━━━━━━━━━━━╇━━━━━━━━━━━━━━━━━━━━━━━━━━━━━╇━━━━━━━━━━━━━━━━━┩\n",
       "│ lstm (<span style=\"color: #0087ff; text-decoration-color: #0087ff\">LSTM</span>)                          │ (<span style=\"color: #00d7ff; text-decoration-color: #00d7ff\">None</span>, <span style=\"color: #00af00; text-decoration-color: #00af00\">24</span>, <span style=\"color: #00af00; text-decoration-color: #00af00\">64</span>)              │          <span style=\"color: #00af00; text-decoration-color: #00af00\">16,896</span> │\n",
       "├──────────────────────────────────────┼─────────────────────────────┼─────────────────┤\n",
       "│ dropout (<span style=\"color: #0087ff; text-decoration-color: #0087ff\">Dropout</span>)                    │ (<span style=\"color: #00d7ff; text-decoration-color: #00d7ff\">None</span>, <span style=\"color: #00af00; text-decoration-color: #00af00\">24</span>, <span style=\"color: #00af00; text-decoration-color: #00af00\">64</span>)              │               <span style=\"color: #00af00; text-decoration-color: #00af00\">0</span> │\n",
       "├──────────────────────────────────────┼─────────────────────────────┼─────────────────┤\n",
       "│ lstm_1 (<span style=\"color: #0087ff; text-decoration-color: #0087ff\">LSTM</span>)                        │ (<span style=\"color: #00d7ff; text-decoration-color: #00d7ff\">None</span>, <span style=\"color: #00af00; text-decoration-color: #00af00\">32</span>)                  │          <span style=\"color: #00af00; text-decoration-color: #00af00\">12,416</span> │\n",
       "├──────────────────────────────────────┼─────────────────────────────┼─────────────────┤\n",
       "│ dense (<span style=\"color: #0087ff; text-decoration-color: #0087ff\">Dense</span>)                        │ (<span style=\"color: #00d7ff; text-decoration-color: #00d7ff\">None</span>, <span style=\"color: #00af00; text-decoration-color: #00af00\">1</span>)                   │              <span style=\"color: #00af00; text-decoration-color: #00af00\">33</span> │\n",
       "└──────────────────────────────────────┴─────────────────────────────┴─────────────────┘\n",
       "</pre>\n"
      ],
      "text/plain": [
       "┏━━━━━━━━━━━━━━━━━━━━━━━━━━━━━━━━━━━━━━┳━━━━━━━━━━━━━━━━━━━━━━━━━━━━━┳━━━━━━━━━━━━━━━━━┓\n",
       "┃\u001b[1m \u001b[0m\u001b[1mLayer (type)                        \u001b[0m\u001b[1m \u001b[0m┃\u001b[1m \u001b[0m\u001b[1mOutput Shape               \u001b[0m\u001b[1m \u001b[0m┃\u001b[1m \u001b[0m\u001b[1m        Param #\u001b[0m\u001b[1m \u001b[0m┃\n",
       "┡━━━━━━━━━━━━━━━━━━━━━━━━━━━━━━━━━━━━━━╇━━━━━━━━━━━━━━━━━━━━━━━━━━━━━╇━━━━━━━━━━━━━━━━━┩\n",
       "│ lstm (\u001b[38;5;33mLSTM\u001b[0m)                          │ (\u001b[38;5;45mNone\u001b[0m, \u001b[38;5;34m24\u001b[0m, \u001b[38;5;34m64\u001b[0m)              │          \u001b[38;5;34m16,896\u001b[0m │\n",
       "├──────────────────────────────────────┼─────────────────────────────┼─────────────────┤\n",
       "│ dropout (\u001b[38;5;33mDropout\u001b[0m)                    │ (\u001b[38;5;45mNone\u001b[0m, \u001b[38;5;34m24\u001b[0m, \u001b[38;5;34m64\u001b[0m)              │               \u001b[38;5;34m0\u001b[0m │\n",
       "├──────────────────────────────────────┼─────────────────────────────┼─────────────────┤\n",
       "│ lstm_1 (\u001b[38;5;33mLSTM\u001b[0m)                        │ (\u001b[38;5;45mNone\u001b[0m, \u001b[38;5;34m32\u001b[0m)                  │          \u001b[38;5;34m12,416\u001b[0m │\n",
       "├──────────────────────────────────────┼─────────────────────────────┼─────────────────┤\n",
       "│ dense (\u001b[38;5;33mDense\u001b[0m)                        │ (\u001b[38;5;45mNone\u001b[0m, \u001b[38;5;34m1\u001b[0m)                   │              \u001b[38;5;34m33\u001b[0m │\n",
       "└──────────────────────────────────────┴─────────────────────────────┴─────────────────┘\n"
      ]
     },
     "metadata": {},
     "output_type": "display_data"
    },
    {
     "data": {
      "text/html": [
       "<pre style=\"white-space:pre;overflow-x:auto;line-height:normal;font-family:Menlo,'DejaVu Sans Mono',consolas,'Courier New',monospace\"><span style=\"font-weight: bold\"> Total params: </span><span style=\"color: #00af00; text-decoration-color: #00af00\">29,345</span> (114.63 KB)\n",
       "</pre>\n"
      ],
      "text/plain": [
       "\u001b[1m Total params: \u001b[0m\u001b[38;5;34m29,345\u001b[0m (114.63 KB)\n"
      ]
     },
     "metadata": {},
     "output_type": "display_data"
    },
    {
     "data": {
      "text/html": [
       "<pre style=\"white-space:pre;overflow-x:auto;line-height:normal;font-family:Menlo,'DejaVu Sans Mono',consolas,'Courier New',monospace\"><span style=\"font-weight: bold\"> Trainable params: </span><span style=\"color: #00af00; text-decoration-color: #00af00\">29,345</span> (114.63 KB)\n",
       "</pre>\n"
      ],
      "text/plain": [
       "\u001b[1m Trainable params: \u001b[0m\u001b[38;5;34m29,345\u001b[0m (114.63 KB)\n"
      ]
     },
     "metadata": {},
     "output_type": "display_data"
    },
    {
     "data": {
      "text/html": [
       "<pre style=\"white-space:pre;overflow-x:auto;line-height:normal;font-family:Menlo,'DejaVu Sans Mono',consolas,'Courier New',monospace\"><span style=\"font-weight: bold\"> Non-trainable params: </span><span style=\"color: #00af00; text-decoration-color: #00af00\">0</span> (0.00 B)\n",
       "</pre>\n"
      ],
      "text/plain": [
       "\u001b[1m Non-trainable params: \u001b[0m\u001b[38;5;34m0\u001b[0m (0.00 B)\n"
      ]
     },
     "metadata": {},
     "output_type": "display_data"
    }
   ],
   "source": [
    "# Build the LSTM Model\n",
    "from tensorflow.keras.layers import LSTM, Dense, Dropout\n",
    "from tensorflow.keras.models import Sequential\n",
    "from tensorflow.keras.callbacks import EarlyStopping, ModelCheckpoint\n",
    "\n",
    "lstm_model = Sequential([\n",
    "    LSTM(64, activation='relu', return_sequences=True, input_shape=(time_steps, 1)),\n",
    "    Dropout(0.2),\n",
    "    LSTM(32, activation='relu'),\n",
    "    Dense(1)\n",
    "])\n",
    "\n",
    "lstm_model.compile(optimizer='adam', loss='mse')\n",
    "lstm_model.summary()"
   ]
  },
  {
   "cell_type": "code",
   "execution_count": 30,
   "id": "53e020bb-0b8c-49d7-ab5f-b2227546b90e",
   "metadata": {},
   "outputs": [
    {
     "name": "stdout",
     "output_type": "stream",
     "text": [
      "Epoch 1/40\n",
      "\u001b[1m2/2\u001b[0m \u001b[32m━━━━━━━━━━━━━━━━━━━━\u001b[0m\u001b[37m\u001b[0m \u001b[1m7s\u001b[0m 939ms/step - loss: 0.0232 - val_loss: 0.0100\n",
      "Epoch 2/40\n",
      "\u001b[1m2/2\u001b[0m \u001b[32m━━━━━━━━━━━━━━━━━━━━\u001b[0m\u001b[37m\u001b[0m \u001b[1m0s\u001b[0m 120ms/step - loss: 0.0203 - val_loss: 0.0075\n",
      "Epoch 3/40\n",
      "\u001b[1m2/2\u001b[0m \u001b[32m━━━━━━━━━━━━━━━━━━━━\u001b[0m\u001b[37m\u001b[0m \u001b[1m0s\u001b[0m 149ms/step - loss: 0.0187 - val_loss: 0.0053\n",
      "Epoch 4/40\n",
      "\u001b[1m2/2\u001b[0m \u001b[32m━━━━━━━━━━━━━━━━━━━━\u001b[0m\u001b[37m\u001b[0m \u001b[1m0s\u001b[0m 166ms/step - loss: 0.0157 - val_loss: 0.0034\n",
      "Epoch 5/40\n",
      "\u001b[1m2/2\u001b[0m \u001b[32m━━━━━━━━━━━━━━━━━━━━\u001b[0m\u001b[37m\u001b[0m \u001b[1m0s\u001b[0m 106ms/step - loss: 0.0229 - val_loss: 0.0022\n",
      "Epoch 6/40\n",
      "\u001b[1m2/2\u001b[0m \u001b[32m━━━━━━━━━━━━━━━━━━━━\u001b[0m\u001b[37m\u001b[0m \u001b[1m0s\u001b[0m 169ms/step - loss: 0.0129 - val_loss: 0.0021\n",
      "Epoch 7/40\n",
      "\u001b[1m2/2\u001b[0m \u001b[32m━━━━━━━━━━━━━━━━━━━━\u001b[0m\u001b[37m\u001b[0m \u001b[1m0s\u001b[0m 157ms/step - loss: 0.0133 - val_loss: 0.0030\n",
      "Epoch 8/40\n",
      "\u001b[1m2/2\u001b[0m \u001b[32m━━━━━━━━━━━━━━━━━━━━\u001b[0m\u001b[37m\u001b[0m \u001b[1m0s\u001b[0m 98ms/step - loss: 0.0224 - val_loss: 0.0037\n",
      "Epoch 9/40\n",
      "\u001b[1m2/2\u001b[0m \u001b[32m━━━━━━━━━━━━━━━━━━━━\u001b[0m\u001b[37m\u001b[0m \u001b[1m0s\u001b[0m 118ms/step - loss: 0.0226 - val_loss: 0.0032\n",
      "Epoch 10/40\n",
      "\u001b[1m2/2\u001b[0m \u001b[32m━━━━━━━━━━━━━━━━━━━━\u001b[0m\u001b[37m\u001b[0m \u001b[1m0s\u001b[0m 140ms/step - loss: 0.0226 - val_loss: 0.0025\n",
      "Epoch 11/40\n",
      "\u001b[1m2/2\u001b[0m \u001b[32m━━━━━━━━━━━━━━━━━━━━\u001b[0m\u001b[37m\u001b[0m \u001b[1m0s\u001b[0m 148ms/step - loss: 0.0138 - val_loss: 0.0021\n",
      "Epoch 12/40\n",
      "\u001b[1m2/2\u001b[0m \u001b[32m━━━━━━━━━━━━━━━━━━━━\u001b[0m\u001b[37m\u001b[0m \u001b[1m0s\u001b[0m 138ms/step - loss: 0.0214 - val_loss: 0.0020\n",
      "\u001b[1m1/1\u001b[0m \u001b[32m━━━━━━━━━━━━━━━━━━━━\u001b[0m\u001b[37m\u001b[0m \u001b[1m1s\u001b[0m 610ms/step\n",
      "LSTM -> MAE: 0.04122452972128112  RMSE: 0.049475011607942335\n"
     ]
    }
   ],
   "source": [
    "# Train the Model\n",
    "early_stop = EarlyStopping(monitor='loss', patience=5, restore_best_weights=True)\n",
    "\n",
    "history = lstm_model.fit(\n",
    "    X_train, y_train,\n",
    "    epochs=40,\n",
    "    batch_size=32,\n",
    "    validation_split=0.2,\n",
    "    callbacks=[early_stop],\n",
    "    verbose=1\n",
    ")\n",
    "\n",
    "y_pred = lstm_model.predict(X_test)\n",
    "\n",
    "# Inverse transform to get original AQI values\n",
    "y_test_inv = scaler.inverse_transform(y_test)\n",
    "y_pred_inv = scaler.inverse_transform(y_pred)\n",
    "\n",
    "mae_lstm = mean_absolute_error(y_test_inv, y_pred_inv)\n",
    "rmse_lstm = np.sqrt(mean_squared_error(y_test_inv, y_pred_inv))\n",
    "print(\"LSTM -> MAE:\", mae_lstm, \" RMSE:\", rmse_lstm)"
   ]
  },
  {
   "cell_type": "code",
   "execution_count": 31,
   "id": "6c0c0cde-965f-4132-8273-0fb671540a25",
   "metadata": {},
   "outputs": [
    {
     "data": {
      "application/javascript": [
       "\n",
       "        if (window._pyforest_update_imports_cell) { window._pyforest_update_imports_cell('from sklearn.model_selection import train_test_split\\nimport pandas as pd\\nfrom sklearn.preprocessing import MinMaxScaler\\nimport matplotlib.pyplot as plt\\nfrom sklearn.preprocessing import StandardScaler\\nimport seaborn as sns'); }\n",
       "    "
      ],
      "text/plain": [
       "<IPython.core.display.Javascript object>"
      ]
     },
     "metadata": {},
     "output_type": "display_data"
    },
    {
     "name": "stdout",
     "output_type": "stream",
     "text": [
      "\n",
      "📊 Model Comparison:\n",
      "     Model       MAE      RMSE\n",
      "0    ARIMA  0.043917  0.052720\n",
      "1  Prophet  0.054365  0.064077\n",
      "2     LSTM  0.041225  0.049475\n",
      "3  XGBoost  0.007829  0.011022\n",
      "\n",
      "✅ Best Performing Model: XGBoost\n"
     ]
    }
   ],
   "source": [
    "# ----- Compare All Models -----\n",
    "results = pd.DataFrame({\n",
    "    'Model': ['ARIMA', 'Prophet', 'LSTM', 'XGBoost'],\n",
    "    'MAE': [mae_arima, mae_prophet, mae_lstm, mae_xgb],\n",
    "    'RMSE': [rmse_arima, rmse_prophet,rmse_lstm, rmse_xgb]\n",
    "})\n",
    "\n",
    "print(\"\\n📊 Model Comparison:\")\n",
    "print(results)\n",
    "\n",
    "best_model = results.loc[results['RMSE'].idxmin(), 'Model']\n",
    "print(f\"\\n✅ Best Performing Model: {best_model}\")"
   ]
  },
  {
   "cell_type": "code",
   "execution_count": 32,
   "id": "f2d4f4e5-c150-44e4-9e0b-addbbdfeb46e",
   "metadata": {},
   "outputs": [
    {
     "data": {
      "application/javascript": [
       "\n",
       "        if (window._pyforest_update_imports_cell) { window._pyforest_update_imports_cell('from sklearn.model_selection import train_test_split\\nimport pandas as pd\\nfrom sklearn.preprocessing import MinMaxScaler\\nimport matplotlib.pyplot as plt\\nfrom sklearn.preprocessing import StandardScaler\\nimport seaborn as sns'); }\n",
       "    "
      ],
      "text/plain": [
       "<IPython.core.display.Javascript object>"
      ]
     },
     "metadata": {},
     "output_type": "display_data"
    },
    {
     "data": {
      "application/javascript": [
       "\n",
       "        if (window._pyforest_update_imports_cell) { window._pyforest_update_imports_cell('from sklearn.model_selection import train_test_split\\nimport pandas as pd\\nfrom sklearn.preprocessing import MinMaxScaler\\nimport matplotlib.pyplot as plt\\nfrom sklearn.preprocessing import StandardScaler\\nimport seaborn as sns'); }\n",
       "    "
      ],
      "text/plain": [
       "<IPython.core.display.Javascript object>"
      ]
     },
     "metadata": {},
     "output_type": "display_data"
    },
    {
     "data": {
      "application/javascript": [
       "\n",
       "        if (window._pyforest_update_imports_cell) { window._pyforest_update_imports_cell('from sklearn.model_selection import train_test_split\\nimport pandas as pd\\nfrom sklearn.preprocessing import MinMaxScaler\\nimport matplotlib.pyplot as plt\\nfrom sklearn.preprocessing import StandardScaler\\nimport seaborn as sns'); }\n",
       "    "
      ],
      "text/plain": [
       "<IPython.core.display.Javascript object>"
      ]
     },
     "metadata": {},
     "output_type": "display_data"
    },
    {
     "data": {
      "application/javascript": [
       "\n",
       "        if (window._pyforest_update_imports_cell) { window._pyforest_update_imports_cell('from sklearn.model_selection import train_test_split\\nimport pandas as pd\\nfrom sklearn.preprocessing import MinMaxScaler\\nimport matplotlib.pyplot as plt\\nfrom sklearn.preprocessing import StandardScaler\\nimport seaborn as sns'); }\n",
       "    "
      ],
      "text/plain": [
       "<IPython.core.display.Javascript object>"
      ]
     },
     "metadata": {},
     "output_type": "display_data"
    },
    {
     "data": {
      "application/javascript": [
       "\n",
       "        if (window._pyforest_update_imports_cell) { window._pyforest_update_imports_cell('from sklearn.model_selection import train_test_split\\nimport pandas as pd\\nfrom sklearn.preprocessing import MinMaxScaler\\nimport matplotlib.pyplot as plt\\nfrom sklearn.preprocessing import StandardScaler\\nimport seaborn as sns'); }\n",
       "    "
      ],
      "text/plain": [
       "<IPython.core.display.Javascript object>"
      ]
     },
     "metadata": {},
     "output_type": "display_data"
    },
    {
     "data": {
      "image/png": "[encoded data removed]",
      "text/plain": [
       "<Figure size 800x500 with 1 Axes>"
      ]
     },
     "metadata": {},
     "output_type": "display_data"
    }
   ],
   "source": [
    "plt.figure(figsize=(8,5))\n",
    "models = ['ARIMA', 'Prophet', 'LSTM', 'XGBoost']\n",
    "rmses = [rmse_arima, rmse_prophet, rmse_lstm, rmse_xgb]\n",
    "plt.bar(models, rmses)\n",
    "plt.title(\"Model Comparison (RMSE)\")\n",
    "plt.ylabel(\"RMSE\")\n",
    "plt.show()"
   ]
  },
  {
   "cell_type": "code",
   "execution_count": 33,
   "id": "1346ad7a-521b-4868-81fe-a07908e4f5f3",
   "metadata": {},
   "outputs": [
    {
     "data": {
      "application/javascript": [
       "\n",
       "        if (window._pyforest_update_imports_cell) { window._pyforest_update_imports_cell('from sklearn.model_selection import train_test_split\\nimport pandas as pd\\nfrom sklearn.preprocessing import MinMaxScaler\\nimport matplotlib.pyplot as plt\\nfrom sklearn.preprocessing import StandardScaler\\nimport seaborn as sns'); }\n",
       "    "
      ],
      "text/plain": [
       "<IPython.core.display.Javascript object>"
      ]
     },
     "metadata": {},
     "output_type": "display_data"
    },
    {
     "data": {
      "application/javascript": [
       "\n",
       "        if (window._pyforest_update_imports_cell) { window._pyforest_update_imports_cell('from sklearn.model_selection import train_test_split\\nimport pandas as pd\\nfrom sklearn.preprocessing import MinMaxScaler\\nimport matplotlib.pyplot as plt\\nfrom sklearn.preprocessing import StandardScaler\\nimport seaborn as sns'); }\n",
       "    "
      ],
      "text/plain": [
       "<IPython.core.display.Javascript object>"
      ]
     },
     "metadata": {},
     "output_type": "display_data"
    },
    {
     "data": {
      "application/javascript": [
       "\n",
       "        if (window._pyforest_update_imports_cell) { window._pyforest_update_imports_cell('from sklearn.model_selection import train_test_split\\nimport pandas as pd\\nfrom sklearn.preprocessing import MinMaxScaler\\nimport matplotlib.pyplot as plt\\nfrom sklearn.preprocessing import StandardScaler\\nimport seaborn as sns'); }\n",
       "    "
      ],
      "text/plain": [
       "<IPython.core.display.Javascript object>"
      ]
     },
     "metadata": {},
     "output_type": "display_data"
    },
    {
     "data": {
      "application/javascript": [
       "\n",
       "        if (window._pyforest_update_imports_cell) { window._pyforest_update_imports_cell('from sklearn.model_selection import train_test_split\\nimport pandas as pd\\nfrom sklearn.preprocessing import MinMaxScaler\\nimport matplotlib.pyplot as plt\\nfrom sklearn.preprocessing import StandardScaler\\nimport seaborn as sns'); }\n",
       "    "
      ],
      "text/plain": [
       "<IPython.core.display.Javascript object>"
      ]
     },
     "metadata": {},
     "output_type": "display_data"
    },
    {
     "data": {
      "application/javascript": [
       "\n",
       "        if (window._pyforest_update_imports_cell) { window._pyforest_update_imports_cell('from sklearn.model_selection import train_test_split\\nimport pandas as pd\\nfrom sklearn.preprocessing import MinMaxScaler\\nimport matplotlib.pyplot as plt\\nfrom sklearn.preprocessing import StandardScaler\\nimport seaborn as sns'); }\n",
       "    "
      ],
      "text/plain": [
       "<IPython.core.display.Javascript object>"
      ]
     },
     "metadata": {},
     "output_type": "display_data"
    },
    {
     "data": {
      "application/javascript": [
       "\n",
       "        if (window._pyforest_update_imports_cell) { window._pyforest_update_imports_cell('from sklearn.model_selection import train_test_split\\nimport pandas as pd\\nfrom sklearn.preprocessing import MinMaxScaler\\nimport matplotlib.pyplot as plt\\nfrom sklearn.preprocessing import StandardScaler\\nimport seaborn as sns'); }\n",
       "    "
      ],
      "text/plain": [
       "<IPython.core.display.Javascript object>"
      ]
     },
     "metadata": {},
     "output_type": "display_data"
    },
    {
     "data": {
      "application/javascript": [
       "\n",
       "        if (window._pyforest_update_imports_cell) { window._pyforest_update_imports_cell('from sklearn.model_selection import train_test_split\\nimport pandas as pd\\nfrom sklearn.preprocessing import MinMaxScaler\\nimport matplotlib.pyplot as plt\\nfrom sklearn.preprocessing import StandardScaler\\nimport seaborn as sns'); }\n",
       "    "
      ],
      "text/plain": [
       "<IPython.core.display.Javascript object>"
      ]
     },
     "metadata": {},
     "output_type": "display_data"
    },
    {
     "data": {
      "application/javascript": [
       "\n",
       "        if (window._pyforest_update_imports_cell) { window._pyforest_update_imports_cell('from sklearn.model_selection import train_test_split\\nimport pandas as pd\\nfrom sklearn.preprocessing import MinMaxScaler\\nimport matplotlib.pyplot as plt\\nfrom sklearn.preprocessing import StandardScaler\\nimport seaborn as sns'); }\n",
       "    "
      ],
      "text/plain": [
       "<IPython.core.display.Javascript object>"
      ]
     },
     "metadata": {},
     "output_type": "display_data"
    },
    {
     "data": {
      "image/png": "[encoded data removed]",
      "text/plain": [
       "<Figure size 1000x500 with 1 Axes>"
      ]
     },
     "metadata": {},
     "output_type": "display_data"
    }
   ],
   "source": [
    "# Plot Forecast vs Actual\n",
    "plt.figure(figsize=(10, 5))\n",
    "plt.plot(y_test_inv, label='Actual PM2.5', color='blue')\n",
    "plt.plot(y_pred_inv, label='Predicted PM2.5', color='red')\n",
    "plt.title('PM2.5 Forecast vs Actual')\n",
    "plt.xlabel('Time Step')\n",
    "plt.ylabel('PM2.5 Level')\n",
    "plt.legend()\n",
    "plt.show()\n"
   ]
  },
  {
   "cell_type": "code",
   "execution_count": 34,
   "id": "1e257b0a-68f0-44bd-bc8d-f7bec11d1789",
   "metadata": {},
   "outputs": [],
   "source": [
    "# Train Per-City Models"
   ]
  },
  {
   "cell_type": "code",
   "execution_count": 35,
   "id": "99d4868e-b6ae-4bd3-a3cc-d07d6a2153f0",
   "metadata": {},
   "outputs": [
    {
     "name": "stdout",
     "output_type": "stream",
     "text": [
      "\n",
      "Training model for Gulzarpet, Anantapur, India...\n",
      "Skipping Gulzarpet, Anantapur, India (not enough data)\n",
      "\n",
      "Training model for Anand Kala Kshetram, Rajamahendravaram, India...\n",
      "Skipping Anand Kala Kshetram, Rajamahendravaram, India (not enough data)\n",
      "\n",
      "Training model for Tirumala-APPCB, Tirupati, India...\n",
      "Skipping Tirumala-APPCB, Tirupati, India (not enough data)\n",
      "\n",
      "Training model for Naharlagun, Naharlagun, India...\n",
      "Skipping Naharlagun, Naharlagun, India (not enough data)\n",
      "\n",
      "Training model for Pan Bazaar, Guwahati, India...\n",
      "Skipping Pan Bazaar, Guwahati, India (not enough data)\n",
      "\n",
      "Training model for D M Colony, Bihar Sharif, India...\n",
      "Skipping D M Colony, Bihar Sharif, India (not enough data)\n",
      "\n",
      "Training model for New DM Office, Arrah, India...\n",
      "Skipping New DM Office, Arrah, India (not enough data)\n",
      "\n",
      "Training model for DRCC Anandpur, Begusarai, India...\n",
      "Skipping DRCC Anandpur, Begusarai, India (not enough data)\n",
      "\n",
      "Training model for Kamalnath Nagar, Bettiah, India...\n",
      "Skipping Kamalnath Nagar, Bettiah, India (not enough data)\n",
      "\n",
      "Training model for DM Office_Kachari Chowk, Bhagalpur, India...\n",
      "Skipping DM Office_Kachari Chowk, Bhagalpur, India (not enough data)\n",
      "\n",
      "Training model for SFTI Kusdihra, Gaya, India...\n",
      "Skipping SFTI Kusdihra, Gaya, India (not enough data)\n",
      "\n",
      "Training model for Central Jail, Buxar, India...\n",
      "Skipping Central Jail, Buxar, India (not enough data)\n",
      "\n",
      "Training model for Darshan Nagar, Chhapra, India...\n",
      "Skipping Darshan Nagar, Chhapra, India (not enough data)\n",
      "\n",
      "Training model for Town Hall - Lal Bagh, Darbhanga, India...\n",
      "Skipping Town Hall - Lal Bagh, Darbhanga, India (not enough data)\n",
      "\n",
      "Training model for Industrial Area, Hajipur, India...\n",
      "Skipping Industrial Area, Hajipur, India (not enough data)\n",
      "\n",
      "Training model for Town Hall, Munger, India...\n",
      "Skipping Town Hall, Munger, India (not enough data)\n",
      "\n",
      "Training model for Mirchaibari, Katihar, India...\n",
      "Skipping Mirchaibari, Katihar, India (not enough data)\n",
      "\n",
      "Training model for Gandak Colony, Motihari, India...\n",
      "Skipping Gandak Colony, Motihari, India (not enough data)\n",
      "\n",
      "Training model for Buddha Colony, Muzaffarpur, India...\n",
      "Skipping Buddha Colony, Muzaffarpur, India (not enough data)\n",
      "\n",
      "Training model for Police Line, Saharsa, India...\n",
      "Skipping Police Line, Saharsa, India (not enough data)\n",
      "\n",
      "Training model for DM Office_Kasipur, Samastipur, India...\n",
      "Skipping DM Office_Kasipur, Samastipur, India (not enough data)\n",
      "\n",
      "Training model for Chitragupta Nagar, Siwan, India...\n",
      "Skipping Chitragupta Nagar, Siwan, India (not enough data)\n",
      "\n",
      "Training model for Sector 22, Chandigarh, India...\n",
      "Skipping Sector 22, Chandigarh, India (not enough data)\n",
      "\n",
      "Training model for Civic Center, Bhilai, India...\n",
      "Skipping Civic Center, Bhilai, India (not enough data)\n",
      "\n",
      "Training model for Doon University, Dehradun, India...\n",
      "Skipping Doon University, Dehradun, India (not enough data)\n",
      "\n",
      "Training model for Maninagar, Ahmedabad, India...\n",
      "Skipping Maninagar, Ahmedabad, India (not enough data)\n",
      "\n",
      "Training model for GIDC, Ankleshwar, India...\n",
      "Skipping GIDC, Ankleshwar, India (not enough data)\n",
      "\n",
      "Training model for Patti Mehar, Ambala, India...\n",
      "Skipping Patti Mehar, Ambala, India (not enough data)\n",
      "\n",
      "Training model for H.B. Colony, Bhiwani, India...\n",
      "Skipping H.B. Colony, Bhiwani, India (not enough data)\n",
      "\n",
      "Training model for Urban Estate-II, Hisar, India...\n",
      "Skipping Urban Estate-II, Hisar, India (not enough data)\n",
      "\n",
      "Training model for Police Lines, Jind, India...\n",
      "Skipping Police Lines, Jind, India (not enough data)\n",
      "\n",
      "Training model for Rishi Nagar, Kaithal, India...\n",
      "Skipping Rishi Nagar, Kaithal, India (not enough data)\n",
      "\n",
      "Training model for Sector-12, Karnal, India...\n",
      "Skipping Sector-12, Karnal, India (not enough data)\n",
      "\n",
      "Training model for F-Block, Sirsa, India...\n",
      "Skipping F-Block, Sirsa, India (not enough data)\n",
      "\n",
      "Training model for Murthal, Sonipat, India...\n",
      "Skipping Murthal, Sonipat, India (not enough data)\n",
      "\n",
      "Training model for Rajbagh, Srinagar, India...\n",
      "Skipping Rajbagh, Srinagar, India (not enough data)\n",
      "\n",
      "Training model for Hombegowda Nagar, Bengaluru, India...\n",
      "Skipping Hombegowda Nagar, Bengaluru, India (not enough data)\n",
      "\n",
      "Training model for Ramteerth Nagar, Belgaum, India...\n",
      "Skipping Ramteerth Nagar, Belgaum, India (not enough data)\n",
      "\n",
      "Training model for Kalyana Nagara, Chikkamagaluru, India...\n",
      "Skipping Kalyana Nagara, Chikkamagaluru, India (not enough data)\n",
      "\n",
      "Training model for B.Katihalli, Hassan, India...\n",
      "Skipping B.Katihalli, Hassan, India (not enough data)\n",
      "\n",
      "Training model for Lal Bahadur Shastri Nagar, Kalaburagi, India...\n",
      "Skipping Lal Bahadur Shastri Nagar, Kalaburagi, India (not enough data)\n",
      "\n",
      "Training model for Tamaka Ind. Area, Kolar, India...\n",
      "Skipping Tamaka Ind. Area, Kolar, India (not enough data)\n",
      "\n",
      "Training model for Stuart Hill, Madikeri, India...\n",
      "Skipping Stuart Hill, Madikeri, India (not enough data)\n",
      "\n",
      "Training model for Kadri, Mangalore, India...\n",
      "Skipping Kadri, Mangalore, India (not enough data)\n",
      "\n",
      "Training model for Haji Colony, Raichur, India...\n",
      "Skipping Haji Colony, Raichur, India (not enough data)\n",
      "\n",
      "Training model for Vinoba Nagara, Shivamogga, India...\n",
      "Skipping Vinoba Nagara, Shivamogga, India (not enough data)\n",
      "\n",
      "Training model for Ibrahimpur, Vijayapura, India...\n",
      "Skipping Ibrahimpur, Vijayapura, India (not enough data)\n",
      "\n",
      "Training model for Thavakkara, Kannur, India...\n",
      "Skipping Thavakkara, Kannur, India (not enough data)\n",
      "\n",
      "Training model for Polayathode, Kollam, India...\n",
      "Skipping Polayathode, Kollam, India (not enough data)\n",
      "\n",
      "Training model for Plammoodu, Thiruvananthapuram, India...\n",
      "Skipping Plammoodu, Thiruvananthapuram, India (not enough data)\n",
      "\n",
      "Training model for Corporation Ground, Thrissur, India...\n",
      "Skipping Corporation Ground, Thrissur, India (not enough data)\n",
      "\n",
      "Training model for T T Nagar, Bhopal, India...\n",
      "Skipping T T Nagar, Bhopal, India (not enough data)\n",
      "\n",
      "Training model for Bhopal Chauraha, Dewas, India...\n",
      "Skipping Bhopal Chauraha, Dewas, India (not enough data)\n",
      "\n",
      "Training model for Marhatal, Jabalpur, India...\n",
      "Skipping Marhatal, Jabalpur, India (not enough data)\n",
      "\n",
      "Training model for Bandhavgar Colony, Satna, India...\n",
      "Skipping Bandhavgar Colony, Satna, India (not enough data)\n",
      "\n",
      "Training model for Mahakaleshwar Temple, Ujjain, India...\n",
      "Skipping Mahakaleshwar Temple, Ujjain, India (not enough data)\n",
      "\n",
      "Training model for Gurdeo Nagar, Aurangabad, India...\n",
      "Skipping Gurdeo Nagar, Aurangabad, India (not enough data)\n",
      "\n",
      "Training model for MIDC Khutala, Chandrapur, India...\n",
      "Skipping MIDC Khutala, Chandrapur, India (not enough data)\n",
      "\n",
      "Training model for Khadakpada, Kalyan, India...\n",
      "Skipping Khadakpada, Kalyan, India (not enough data)\n",
      "\n",
      "Training model for Opp GPO Civil Lines, Nagpur, India...\n",
      "Skipping Opp GPO Civil Lines, Nagpur, India (not enough data)\n",
      "\n",
      "Training model for Gangapur Road, Nashik, India...\n",
      "Skipping Gangapur Road, Nashik, India (not enough data)\n",
      "\n",
      "Training model for DM College of Science, Imphal, India...\n",
      "Skipping DM College of Science, Imphal, India (not enough data)\n",
      "\n",
      "Training model for Lumpyngngad, Shillong, India...\n",
      "Skipping Lumpyngngad, Shillong, India (not enough data)\n",
      "\n",
      "Training model for Sikulpuikawn, Aizawl, India...\n",
      "Skipping Sikulpuikawn, Aizawl, India (not enough data)\n",
      "\n",
      "Training model for PWD Juction, Kohima, India...\n",
      "Skipping PWD Juction, Kohima, India (not enough data)\n",
      "\n",
      "Training model for Jawahar Nagar, Puducherry, India...\n",
      "Skipping Jawahar Nagar, Puducherry, India (not enough data)\n",
      "\n",
      "Training model for Golden Temple, Amritsar, India...\n",
      "Skipping Golden Temple, Amritsar, India (not enough data)\n",
      "\n",
      "Training model for Civil Line, Jalandhar, India...\n",
      "Skipping Civil Line, Jalandhar, India (not enough data)\n",
      "\n",
      "Training model for Punjab Agricultural University, Ludhiana, India...\n",
      "Skipping Punjab Agricultural University, Ludhiana, India (not enough data)\n",
      "\n",
      "Training model for Model Town, Patiala, India...\n",
      "Skipping Model Town, Patiala, India (not enough data)\n",
      "\n",
      "Training model for Civil Lines, Ajmer, India...\n",
      "Skipping Civil Lines, Ajmer, India (not enough data)\n",
      "\n",
      "Training model for Moti Doongri, Alwar, India...\n",
      "Skipping Moti Doongri, Alwar, India (not enough data)\n",
      "\n",
      "Training model for Police Commissionerate, Jaipur, India...\n",
      "Skipping Police Commissionerate, Jaipur, India (not enough data)\n",
      "\n",
      "Training model for Collectorate, Jodhpur, India...\n",
      "Skipping Collectorate, Jodhpur, India (not enough data)\n",
      "\n",
      "Training model for Shrinath Puram, Kota, India...\n",
      "Skipping Shrinath Puram, Kota, India (not enough data)\n",
      "\n",
      "Training model for Indira Colony Vistar, Pali, India...\n",
      "Skipping Indira Colony Vistar, Pali, India (not enough data)\n",
      "\n",
      "Training model for Ashok Nagar, Udaipur, India...\n",
      "Skipping Ashok Nagar, Udaipur, India (not enough data)\n",
      "\n",
      "Training model for Zero Point GICI, Gangtok, India...\n",
      "Skipping Zero Point GICI, Gangtok, India (not enough data)\n",
      "\n",
      "Training model for SIDCO Kurichi, Coimbatore, India...\n",
      "Skipping SIDCO Kurichi, Coimbatore, India (not enough data)\n",
      "\n",
      "Training model for Mendonsa Colony, Dindigul, India...\n",
      "Skipping Mendonsa Colony, Dindigul, India (not enough data)\n",
      "\n",
      "Training model for Kumaran College, Tirupur, India...\n",
      "Skipping Kumaran College, Tirupur, India (not enough data)\n",
      "\n",
      "Training model for Bombay Castel, Ooty, India...\n",
      "Skipping Bombay Castel, Ooty, India (not enough data)\n",
      "\n",
      "Training model for IITH Kandi, Hyderabad, India...\n",
      "Skipping IITH Kandi, Hyderabad, India (not enough data)\n",
      "\n",
      "Training model for Bardowali, Agartala, India...\n",
      "Skipping Bardowali, Agartala, India (not enough data)\n",
      "\n",
      "Training model for Rajendra Nagar, Bareilly, India...\n",
      "Skipping Rajendra Nagar, Bareilly, India (not enough data)\n",
      "\n",
      "Training model for Yamunapuram, Bulandshahr, India...\n",
      "Skipping Yamunapuram, Bulandshahr, India (not enough data)\n",
      "\n",
      "Training model for Sanjay Nagar, Ghaziabad, India...\n",
      "Skipping Sanjay Nagar, Ghaziabad, India (not enough data)\n",
      "\n",
      "Training model for Madan Mohan Malaviya University of Technology, Gorakhpur, India...\n",
      "Skipping Madan Mohan Malaviya University of Technology, Gorakhpur, India (not enough data)\n",
      "\n",
      "Training model for Shivaji Nagar, Jhansi, India...\n",
      "Skipping Shivaji Nagar, Jhansi, India (not enough data)\n",
      "\n",
      "Training model for FTI Kidwai Nagar, Kanpur, India...\n",
      "Skipping FTI Kidwai Nagar, Kanpur, India (not enough data)\n",
      "\n",
      "Training model for B R Ambedkar University, Lucknow, India...\n",
      "Skipping B R Ambedkar University, Lucknow, India (not enough data)\n",
      "\n",
      "Training model for Omex Eternity, Vrindavan, India...\n",
      "Skipping Omex Eternity, Vrindavan, India (not enough data)\n",
      "\n",
      "Training model for Pallavpuram Phase 2, Meerut, India...\n",
      "Skipping Pallavpuram Phase 2, Meerut, India (not enough data)\n",
      "\n",
      "Training model for Jigar Colony, Moradabad, India...\n",
      "Skipping Jigar Colony, Moradabad, India (not enough data)\n",
      "\n",
      "Training model for New Mandi, Muzaffarnagar, India...\n",
      "Skipping New Mandi, Muzaffarnagar, India (not enough data)\n",
      "\n",
      "Training model for Maldahiya, Varanasi, India...\n",
      "Skipping Maldahiya, Varanasi, India (not enough data)\n",
      "\n",
      "Training model for Asansol Court Area, Asansol, India...\n",
      "Skipping Asansol Court Area, Asansol, India (not enough data)\n",
      "\n",
      "Training model for Ghusuri, Howrah, India...\n",
      "Skipping Ghusuri, Howrah, India (not enough data)\n",
      "\n",
      "Training model for Rabindra Bharati University, Kolkata, India...\n",
      "Skipping Rabindra Bharati University, Kolkata, India (not enough data)\n",
      "\n",
      "Training model for Bidhannagar, Kolkata, India...\n",
      "Skipping Bidhannagar, Kolkata, India (not enough data)\n",
      "\n",
      "Training model for Sidhu Kanhu Indoor Stadium, Durgapur, India...\n",
      "Skipping Sidhu Kanhu Indoor Stadium, Durgapur, India (not enough data)\n",
      "\n",
      "Training model for Victoria, Kolkata, India...\n",
      "Skipping Victoria, Kolkata, India (not enough data)\n",
      "\n",
      "Training model for Ward-32 Bapupara, Siliguri, India...\n",
      "Skipping Ward-32 Bapupara, Siliguri, India (not enough data)\n"
     ]
    }
   ],
   "source": [
    "# # Define number of time steps again for this cell\n",
    "# n_steps = 5 \n",
    "\n",
    "# cities = air_aware_data['City'].unique()\n",
    "# for city in cities:\n",
    "#     print(f\"\\nTraining model for {city}...\")\n",
    "    \n",
    "#     # Filter data for one city\n",
    "#     city_data = air_aware_data[air_aware_data['City'] == city]\n",
    "    \n",
    "#     # Skip if city has too little data\n",
    "#     if len(city_data) < n_steps + 10:\n",
    "#         print(f\"Skipping {city} (not enough data)\")\n",
    "#         continue\n",
    "    \n",
    "#     # Scale features\n",
    "#     city_scaled = scaler.fit_transform(city_data[['PM2.5', 'PM10', 'O3', 'NO2', 'SO2', 'CO']])\n",
    "    \n",
    "#     # Create sequences\n",
    "#     X_city, y_city = create_sequences(city_scaled, n_steps)\n",
    "    \n",
    "#     # Split city data into train/test\n",
    "#     split_idx = int(len(X_city) * 0.8)\n",
    "#     X_train_city, X_test_city = X_city[:split_idx], X_city[split_idx:]\n",
    "#     y_train_city, y_test_city = y_city[:split_idx], y_city[split_idx:]\n",
    "    \n",
    "#     # Build a new model for each city\n",
    "#     city_model = Sequential([\n",
    "#         LSTM(64, activation='relu', return_sequences=True, input_shape=(n_steps, X_city.shape[2])),\n",
    "#         Dropout(0.2),\n",
    "#         LSTM(32, activation='relu'),\n",
    "#         Dense(1)\n",
    "#     ])\n",
    "    \n",
    "#     city_model.compile(optimizer='adam', loss='mse')\n",
    "    \n",
    "#     # Train model\n",
    "#     city_model.fit(X_train_city, y_train_city, epochs=20, batch_size=16, verbose=0)\n",
    "    \n",
    "#     # Evaluate\n",
    "#     city_loss = city_model.evaluate(X_test_city, y_test_city, verbose=0)\n",
    "#     print(f\"{city} model loss: {city_loss:.4f}\")\n",
    "    \n",
    "#     # Save model\n",
    "#     city_model.save(f\"model_{city}.h5\")\n"
   ]
  },
  {
   "cell_type": "code",
   "execution_count": 39,
   "id": "8d5709af-3f7c-48db-8000-e0b5aacc30cf",
   "metadata": {},
   "outputs": [
    {
     "name": "stderr",
     "output_type": "stream",
     "text": [
      "C:\\Users\\Dell\\AppData\\Local\\Programs\\Python\\Python311\\Lib\\site-packages\\keras\\src\\layers\\rnn\\rnn.py:204: UserWarning: Do not pass an `input_shape`/`input_dim` argument to a layer. When using Sequential models, prefer using an `Input(shape)` object as the first layer in the model instead.\n",
      "  super().__init__(**kwargs)\n"
     ]
    },
    {
     "name": "stdout",
     "output_type": "stream",
     "text": [
      "Epoch 1/20\n",
      "\u001b[1m5/5\u001b[0m \u001b[32m━━━━━━━━━━━━━━━━━━━━\u001b[0m\u001b[37m\u001b[0m \u001b[1m8s\u001b[0m 14ms/step - loss: 0.0417\n",
      "Epoch 2/20\n",
      "\u001b[1m5/5\u001b[0m \u001b[32m━━━━━━━━━━━━━━━━━━━━\u001b[0m\u001b[37m\u001b[0m \u001b[1m0s\u001b[0m 17ms/step - loss: 0.0388\n",
      "Epoch 3/20\n",
      "\u001b[1m5/5\u001b[0m \u001b[32m━━━━━━━━━━━━━━━━━━━━\u001b[0m\u001b[37m\u001b[0m \u001b[1m0s\u001b[0m 17ms/step - loss: 0.0252\n",
      "Epoch 4/20\n",
      "\u001b[1m5/5\u001b[0m \u001b[32m━━━━━━━━━━━━━━━━━━━━\u001b[0m\u001b[37m\u001b[0m \u001b[1m0s\u001b[0m 23ms/step - loss: 0.0241\n",
      "Epoch 5/20\n",
      "\u001b[1m5/5\u001b[0m \u001b[32m━━━━━━━━━━━━━━━━━━━━\u001b[0m\u001b[37m\u001b[0m \u001b[1m0s\u001b[0m 20ms/step - loss: 0.0234\n",
      "Epoch 6/20\n",
      "\u001b[1m5/5\u001b[0m \u001b[32m━━━━━━━━━━━━━━━━━━━━\u001b[0m\u001b[37m\u001b[0m \u001b[1m0s\u001b[0m 21ms/step - loss: 0.0253\n",
      "Epoch 7/20\n",
      "\u001b[1m5/5\u001b[0m \u001b[32m━━━━━━━━━━━━━━━━━━━━\u001b[0m\u001b[37m\u001b[0m \u001b[1m0s\u001b[0m 15ms/step - loss: 0.0308\n",
      "Epoch 8/20\n",
      "\u001b[1m5/5\u001b[0m \u001b[32m━━━━━━━━━━━━━━━━━━━━\u001b[0m\u001b[37m\u001b[0m \u001b[1m0s\u001b[0m 17ms/step - loss: 0.0262\n",
      "Epoch 9/20\n",
      "\u001b[1m5/5\u001b[0m \u001b[32m━━━━━━━━━━━━━━━━━━━━\u001b[0m\u001b[37m\u001b[0m \u001b[1m0s\u001b[0m 19ms/step - loss: 0.0265\n",
      "Epoch 10/20\n",
      "\u001b[1m5/5\u001b[0m \u001b[32m━━━━━━━━━━━━━━━━━━━━\u001b[0m\u001b[37m\u001b[0m \u001b[1m0s\u001b[0m 21ms/step - loss: 0.0212\n",
      "Epoch 11/20\n",
      "\u001b[1m5/5\u001b[0m \u001b[32m━━━━━━━━━━━━━━━━━━━━\u001b[0m\u001b[37m\u001b[0m \u001b[1m0s\u001b[0m 22ms/step - loss: 0.0284\n",
      "Epoch 12/20\n",
      "\u001b[1m5/5\u001b[0m \u001b[32m━━━━━━━━━━━━━━━━━━━━\u001b[0m\u001b[37m\u001b[0m \u001b[1m0s\u001b[0m 23ms/step - loss: 0.0224\n",
      "Epoch 13/20\n",
      "\u001b[1m5/5\u001b[0m \u001b[32m━━━━━━━━━━━━━━━━━━━━\u001b[0m\u001b[37m\u001b[0m \u001b[1m0s\u001b[0m 15ms/step - loss: 0.0297\n",
      "Epoch 14/20\n",
      "\u001b[1m5/5\u001b[0m \u001b[32m━━━━━━━━━━━━━━━━━━━━\u001b[0m\u001b[37m\u001b[0m \u001b[1m0s\u001b[0m 16ms/step - loss: 0.0248\n",
      "Epoch 15/20\n",
      "\u001b[1m5/5\u001b[0m \u001b[32m━━━━━━━━━━━━━━━━━━━━\u001b[0m\u001b[37m\u001b[0m \u001b[1m0s\u001b[0m 17ms/step - loss: 0.0270\n",
      "Epoch 16/20\n",
      "\u001b[1m5/5\u001b[0m \u001b[32m━━━━━━━━━━━━━━━━━━━━\u001b[0m\u001b[37m\u001b[0m \u001b[1m0s\u001b[0m 19ms/step - loss: 0.0278\n",
      "Epoch 17/20\n",
      "\u001b[1m5/5\u001b[0m \u001b[32m━━━━━━━━━━━━━━━━━━━━\u001b[0m\u001b[37m\u001b[0m \u001b[1m0s\u001b[0m 23ms/step - loss: 0.0232\n",
      "Epoch 18/20\n",
      "\u001b[1m5/5\u001b[0m \u001b[32m━━━━━━━━━━━━━━━━━━━━\u001b[0m\u001b[37m\u001b[0m \u001b[1m0s\u001b[0m 29ms/step - loss: 0.0223\n",
      "Epoch 19/20\n",
      "\u001b[1m5/5\u001b[0m \u001b[32m━━━━━━━━━━━━━━━━━━━━\u001b[0m\u001b[37m\u001b[0m \u001b[1m0s\u001b[0m 20ms/step - loss: 0.0309\n",
      "Epoch 20/20\n",
      "\u001b[1m5/5\u001b[0m \u001b[32m━━━━━━━━━━━━━━━━━━━━\u001b[0m\u001b[37m\u001b[0m \u001b[1m0s\u001b[0m 22ms/step - loss: 0.0239\n",
      "\u001b[1m1/1\u001b[0m \u001b[32m━━━━━━━━━━━━━━━━━━━━\u001b[0m\u001b[37m\u001b[0m \u001b[1m1s\u001b[0m 735ms/step - loss: 0.0148\n"
     ]
    },
    {
     "name": "stderr",
     "output_type": "stream",
     "text": [
      "WARNING:absl:You are saving your model as an HDF5 file via `model.save()` or `keras.saving.save_model(model)`. This file format is considered legacy. We recommend using instead the native Keras format, e.g. `model.save('my_model.keras')` or `keras.saving.save_model(model, 'my_model.keras')`. \n"
     ]
    },
    {
     "name": "stdout",
     "output_type": "stream",
     "text": [
      "Model loss: 0.0148\n"
     ]
    }
   ],
   "source": [
    "n_steps = 10\n",
    "\n",
    "# Scale all features together\n",
    "scaled_data = scaler.fit_transform(air_aware_data[['PM2.5', 'PM10', 'O3', 'NO2', 'SO2', 'CO']])\n",
    "\n",
    "# Create sequences on full data\n",
    "X, y = create_sequences(scaled_data, n_steps)\n",
    "\n",
    "# Split train/test\n",
    "split_idx = int(len(X) * 0.8)\n",
    "X_train, X_test = X[:split_idx], X[split_idx:]\n",
    "y_train, y_test = y[:split_idx], y[split_idx:]\n",
    "\n",
    "# Build model\n",
    "model = Sequential([\n",
    "    LSTM(64, activation='relu', return_sequences=True, input_shape=(n_steps, X.shape[2])),\n",
    "    Dropout(0.2),\n",
    "    LSTM(32, activation='relu'),\n",
    "    Dense(1)\n",
    "])\n",
    "\n",
    "model.compile(optimizer='adam', loss='mse')\n",
    "\n",
    "model.fit(X_train, y_train, epochs=20, batch_size=16, verbose=1)\n",
    "\n",
    "loss = model.evaluate(X_test, y_test)\n",
    "print(f\"Model loss: {loss:.4f}\")\n",
    "\n",
    "model.save(\"model_all_cities.h5\")\n"
   ]
  },
  {
   "cell_type": "code",
   "execution_count": 38,
   "id": "ea3bdf01-f8a8-4b29-94ce-1ce05001c586",
   "metadata": {},
   "outputs": [
    {
     "name": "stdout",
     "output_type": "stream",
     "text": [
      "City\n",
      "Gulzarpet, Anantapur, India          1\n",
      "Jawahar Nagar, Puducherry, India     1\n",
      "Indira Colony Vistar, Pali, India    1\n",
      "Shrinath Puram, Kota, India          1\n",
      "Collectorate, Jodhpur, India         1\n",
      "                                    ..\n",
      "Rishi Nagar, Kaithal, India          1\n",
      "Police Lines, Jind, India            1\n",
      "Urban Estate-II, Hisar, India        1\n",
      "H.B. Colony, Bhiwani, India          1\n",
      "Ward-32 Bapupara, Siliguri, India    1\n",
      "Name: count, Length: 103, dtype: int64\n"
     ]
    }
   ],
   "source": [
    "print(air_aware_data['City'].value_counts())"
   ]
  },
  {
   "cell_type": "code",
   "execution_count": 42,
   "id": "de8cd9af-4d7c-4f96-ab58-46cc097d7401",
   "metadata": {},
   "outputs": [
    {
     "name": "stdout",
     "output_type": "stream",
     "text": [
      "Training ARIMA for PM2.5...\n",
      "PM2.5 model saved.\n",
      "Training ARIMA for PM10...\n",
      "PM10 model saved.\n",
      "Training ARIMA for O3...\n",
      "O3 model saved.\n",
      "Training ARIMA for NO2...\n",
      "NO2 model saved.\n",
      "Training ARIMA for SO2...\n",
      "SO2 model saved.\n",
      "Training ARIMA for CO...\n",
      "CO model saved.\n"
     ]
    }
   ],
   "source": [
    "from statsmodels.tsa.arima.model import ARIMA\n",
    "import pickle\n",
    "\n",
    "pollutants = ['PM2.5', 'PM10', 'O3', 'NO2', 'SO2', 'CO']\n",
    "\n",
    "for col in pollutants:\n",
    "    print(f\"Training ARIMA for {col}...\")\n",
    "    y = air_aware_data[col].dropna()\n",
    "    \n",
    "    # Simple ARIMA example\n",
    "    model = ARIMA(y, order=(1,1,1))\n",
    "    result = model.fit()\n",
    "    \n",
    "    # Save\n",
    "    with open(f'model_arima_{col}.pkl', 'wb') as f:\n",
    "        pickle.dump(result, f)\n",
    "    \n",
    "    print(f\"{col} model saved.\")\n"
   ]
  },
  {
   "cell_type": "code",
   "execution_count": 43,
   "id": "d7315632-0c16-49b3-a443-146561ecb8aa",
   "metadata": {},
   "outputs": [],
   "source": [
    "import pickle\n",
    "\n",
    "# assuming your trained model is named `prophet_model`\n",
    "with open('model_prophet_pm25.pkl', 'wb') as f:\n",
    "    pickle.dump(prophet_model, f)"
   ]
  },
  {
   "cell_type": "code",
   "execution_count": 44,
   "id": "b4b67d9c-c461-4c25-abae-f228027e1b7a",
   "metadata": {},
   "outputs": [],
   "source": [
    "# assuming model name is xgb_model\n",
    "xgb_model.save_model('model_xgboost_pm25.json')"
   ]
  },
  {
   "cell_type": "code",
   "execution_count": 46,
   "id": "0d5c3ff4-fe08-4007-b427-830b38813812",
   "metadata": {},
   "outputs": [],
   "source": [
    "# assuming model name is lstm_model\n",
    "lstm_model.save('model_lstm_pm25.keras')"
   ]
  },
  {
   "cell_type": "code",
   "execution_count": null,
   "id": "cf38de4f-a1ee-409a-9a11-11f0a7bca526",
   "metadata": {},
   "outputs": [],
   "source": []
  }
 ],
 "metadata": {
  "kernelspec": {
   "display_name": "Python 3 (ipykernel)",
   "language": "python",
   "name": "python3"
  },
  "language_info": {
   "codemirror_mode": {
    "name": "ipython",
    "version": 3
   },
   "file_extension": ".py",
   "mimetype": "text/x-python",
   "name": "python",
   "nbconvert_exporter": "python",
   "pygments_lexer": "ipython3",
   "version": "3.11.4"
  }
 },
 "nbformat": 4,
 "nbformat_minor": 5
}
