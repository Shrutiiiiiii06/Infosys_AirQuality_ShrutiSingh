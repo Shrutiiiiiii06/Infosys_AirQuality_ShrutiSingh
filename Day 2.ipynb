{
 "cells": [
  {
   "cell_type": "code",
   "execution_count": 1,
   "id": "1a7cbb5f-0403-4eab-b864-c359a6bbda7d",
   "metadata": {},
   "outputs": [
    {
     "name": "stdout",
     "output_type": "stream",
     "text": [
      "Hello welcome to Infosys for python course\n"
     ]
    }
   ],
   "source": [
    "print(\"Hello welcome to Infosys for python course\")\n"
   ]
  },
  {
   "cell_type": "code",
   "execution_count": 2,
   "id": "566c79d4-dac8-48b3-afff-5180db725521",
   "metadata": {},
   "outputs": [
    {
     "name": "stdin",
     "output_type": "stream",
     "text": [
      "Please enter your company name: Wipro\n",
      "Enter the course name: Python\n"
     ]
    }
   ],
   "source": [
    "company = input(\"Please enter your company name:\")\n",
    "course = input(\"Enter the course name:\")\n"
   ]
  },
  {
   "cell_type": "code",
   "execution_count": 3,
   "id": "f0ce53ac-8609-4261-9ab0-66c42ef3ec7a",
   "metadata": {},
   "outputs": [
    {
     "name": "stdout",
     "output_type": "stream",
     "text": [
      "hello welcome to Wipro for Python course\n"
     ]
    }
   ],
   "source": [
    "print(f'hello welcome to {company} for {course} course')"
   ]
  },
  {
   "cell_type": "code",
   "execution_count": 4,
   "id": "9d3ca3a7-af08-4e54-adb2-d9b363c164c7",
   "metadata": {},
   "outputs": [],
   "source": [
    "# Task 1: Write code to create a Google Form that has all data types using the input command\n",
    "#- giving user input at runtime.  Using all 5 methods : coma , + , % , .format , F string"
   ]
  },
  {
   "cell_type": "code",
   "execution_count": 6,
   "id": "43f54e16-9421-4f34-9732-a6b85375b0e2",
   "metadata": {},
   "outputs": [
    {
     "name": "stdin",
     "output_type": "stream",
     "text": [
      " Shruti\n",
      " 21\n",
      " 50000\n"
     ]
    },
    {
     "name": "stdout",
     "output_type": "stream",
     "text": [
      "Name: Shruti , Age: 21 , Salary: 50000\n",
      "Name:Shruti,Age:21, Salary: 50000\n",
      "Name: Shruti , Age: 21 , Salary : 50000.00 \n",
      "Name: Shruti , Age: 21 , Salary: 50000.00\n",
      "Name: Shruti , Age: 21 , Salary: 50000.00\n"
     ]
    }
   ],
   "source": [
    "name = input()\n",
    "age = int(input())\n",
    "salary = (input())\n",
    "\n",
    "# Coma method\n",
    "print(\"Name:\", name,\", Age:\", age, \", Salary:\", salary)\n",
    "\n",
    "# Plus (+) operator (requires type conversion)\n",
    "print(\"Name:\" + name + \",Age:\" + str(age) + \", Salary: \" + str(salary)) \n",
    "\n",
    "# % Formatting (old style)\n",
    "print(\"Name: %s , Age: %d , Salary : %.2f \" %(name , age , salary))\n",
    "\n",
    "#  .format() method\n",
    "print(\"Name: {} , Age: {} , Salary: {:.2f}\".format(name,age,salary)) \n",
    "\n",
    "#F-string (modern and recommended)\n",
    "print(f\"Name: {name} , Age: {age} , Salary: {salary:.2f}\")"
   ]
  },
  {
   "cell_type": "code",
   "execution_count": 7,
   "id": "ebd93982-8ff2-4043-8cca-91483c996de9",
   "metadata": {},
   "outputs": [],
   "source": [
    "# Task 2 : Function manipulating lists only"
   ]
  },
  {
   "cell_type": "code",
   "execution_count": 8,
   "id": "54f43677-5da2-40b7-a945-60ed573d60f2",
   "metadata": {},
   "outputs": [
    {
     "name": "stdout",
     "output_type": "stream",
     "text": [
      "['apple', 'banana', 'cherry', 'orange']\n"
     ]
    }
   ],
   "source": [
    "fruits = [\"apple\", \"banana\", \"cherry\"]\n",
    "\n",
    "#append() - add an element at the end\n",
    "fruits.append(\"orange\")\n",
    "print(fruits)"
   ]
  },
  {
   "cell_type": "code",
   "execution_count": 9,
   "id": "449fe7dd-4056-425f-ad34-30e60c36ef62",
   "metadata": {},
   "outputs": [
    {
     "name": "stdout",
     "output_type": "stream",
     "text": [
      "['apple', 'grapes', 'banana', 'cherry', 'orange']\n"
     ]
    }
   ],
   "source": [
    "# insert() - insert element at a given position\n",
    "fruits.insert(1,\"grapes\")\n",
    "print(fruits)"
   ]
  },
  {
   "cell_type": "code",
   "execution_count": 10,
   "id": "565ada0f-1111-4b21-91f6-8b9ae17aee57",
   "metadata": {},
   "outputs": [
    {
     "name": "stdout",
     "output_type": "stream",
     "text": [
      "['apple', 'grapes', 'cherry', 'orange']\n",
      "orange\n",
      "grapes\n",
      "['apple', 'cherry']\n",
      "[10, 20, 30, 40, 50]\n",
      "[50, 40, 30, 20, 10]\n"
     ]
    }
   ],
   "source": [
    "#remove() - remove the first occurrence of the element\n",
    "fruits.remove(\"banana\")\n",
    "print(fruits)\n",
    "\n",
    "#pop() - remove element at index (default last element)\n",
    "popped_item = fruits.pop()  # remove last element\n",
    "print(popped_item)\n",
    "\n",
    "popped_item = fruits.pop(1)   # remove element at index 1\n",
    "print(popped_item)\n",
    "\n",
    "# reverse() - reverse the list\n",
    "fruits.reverse\n",
    "print(fruits)\n",
    "\n",
    "#sort() - sort list in ascending order\n",
    "numbers = [ 50,10,40,20,30]\n",
    "numbers.sort()\n",
    "print(numbers)\n",
    "\n",
    "# sort in descending order\n",
    "numbers.sort(reverse = True)\n",
    "print(numbers)\n",
    "\n"
   ]
  },
  {
   "cell_type": "code",
   "execution_count": 11,
   "id": "cbd27751-9097-4e4f-a025-7c160f7493d2",
   "metadata": {},
   "outputs": [],
   "source": [
    "# Task 3: Built-in Function for dictionary"
   ]
  },
  {
   "cell_type": "code",
   "execution_count": 12,
   "id": "f6c1cabd-853f-4c6f-93a1-ac5f308e83c7",
   "metadata": {},
   "outputs": [
    {
     "name": "stdout",
     "output_type": "stream",
     "text": [
      "3\n",
      "<class 'dict'>\n",
      "Min key: age\n",
      "Max key: name\n",
      "After del marks: {'name': ' Shruti', 'age': 21}\n",
      "Popped Age value: 21\n",
      "After pop age: {'name': ' Shruti'}\n",
      "After clear: {}\n"
     ]
    }
   ],
   "source": [
    "student = {\n",
    "    \"name\": \" Shruti\",\n",
    "    \"age\":  21,\n",
    "    \"marks\": 88\n",
    "}\n",
    "\n",
    "# len() - number of items\n",
    "print(len(student))\n",
    "\n",
    "# type()\n",
    "print(type(student))\n",
    "\n",
    "# min() : smallest key\n",
    "print(\"Min key:\" ,min(student))\n",
    "\n",
    "# max() : largest key\n",
    "print(\"Max key:\" ,max(student))\n",
    "\n",
    "#del - delete a key\n",
    "del student[\"marks\"]\n",
    "print(\"After del marks:\" ,student)\n",
    "\n",
    "# pop() - remove key and return value\n",
    "age_val = student.pop(\"age\")\n",
    "print(\"Popped Age value:\" , age_val)\n",
    "print(\"After pop age:\" , student)\n",
    "\n",
    "# clear() - removes all items\n",
    "student.clear()\n",
    "print(\"After clear:\" , student)"
   ]
  },
  {
   "cell_type": "code",
   "execution_count": 13,
   "id": "da3a6688-4cfa-4835-954a-785fcf1d2f79",
   "metadata": {},
   "outputs": [],
   "source": [
    "# Task 4: Functions to modify set"
   ]
  },
  {
   "cell_type": "code",
   "execution_count": 15,
   "id": "f1e974d5-dd00-42d6-8297-4951b7376891",
   "metadata": {},
   "outputs": [
    {
     "name": "stdout",
     "output_type": "stream",
     "text": [
      "{1, 2, 3, 4, 5}\n"
     ]
    }
   ],
   "source": [
    "# Initialise a set\n",
    "my_set = {1,2,3,4}\n",
    "\n",
    "# add() - add a single element\n",
    "my_set.add(5)\n",
    "print(my_set)"
   ]
  },
  {
   "cell_type": "code",
   "execution_count": 16,
   "id": "0a8baab4-ab04-4234-9d56-8c065579b7aa",
   "metadata": {},
   "outputs": [
    {
     "name": "stdout",
     "output_type": "stream",
     "text": [
      "After update: {1, 2, 3, 4, 5, 6, 7, 8, 9}\n",
      "After discard(2): {1, 3, 4, 5, 6, 7, 8, 9}\n",
      "After remove(3): {1, 4, 5, 6, 7, 8, 9}\n",
      "Copied set: {1, 4, 5, 6, 7, 8, 9}\n",
      "After clear(): set()\n"
     ]
    }
   ],
   "source": [
    "# update() - Add multiple elements from another set/list/tuple\n",
    "my_set.update([6,7] ,{8,9})\n",
    "print(\"After update:\" , my_set)\n",
    "\n",
    "# discard() - remove an element if it exists\n",
    "my_set.discard(2)\n",
    "print(\"After discard(2):\" , my_set)\n",
    "\n",
    "# remove() - Remove an element, raises KeyError if not present\n",
    "my_set.remove(3)\n",
    "print(\"After remove(3):\", my_set)\n",
    "\n",
    "# copy() - Create a shallow copy of the set\n",
    "copied_set = my_set.copy()\n",
    "print(\"Copied set:\", copied_set)\n",
    "\n",
    "# clear() - Remove all elements from the set\n",
    "my_set.clear()\n",
    "print(\"After clear():\", my_set)"
   ]
  },
  {
   "cell_type": "code",
   "execution_count": 17,
   "id": "9b0e851f-a055-4fce-95ef-c6584273e15d",
   "metadata": {},
   "outputs": [],
   "source": [
    "# Task 5 : Set operators\n"
   ]
  },
  {
   "cell_type": "code",
   "execution_count": 18,
   "id": "7e217202-a09c-47f4-8129-2fce26767e8a",
   "metadata": {},
   "outputs": [
    {
     "name": "stdout",
     "output_type": "stream",
     "text": [
      "{1, 2, 3, 4, 5, 6}\n",
      "{1, 2, 3, 4, 5, 6}\n",
      "{3, 4}\n",
      "{1, 2, 5, 6}\n"
     ]
    }
   ],
   "source": [
    "# Define two sets\n",
    "A = {1,2,3,4}\n",
    "B = {3,4,5,6}\n",
    "\n",
    "# Union() - Elements in either A or B\n",
    "union_set1 = A.union(B)\n",
    "\n",
    "# or using | operator\n",
    "union_set2 = A|B\n",
    "print(union_set1)\n",
    "print(union_set2)\n",
    "\n",
    "# Intersection() - Elements common in both sets\n",
    "intersection_set = A.intersection(B)\n",
    "\n",
    "# or using & operator\n",
    "intersection_set2 = A & B\n",
    "print(intersection_set)\n",
    "\n",
    "# Symmetric_difference() - Elements in either set but not in both\n",
    "C = A.symmetric_difference(B)\n",
    "\n",
    "# or using ^ operator\n",
    "C = A ^ B\n",
    "print(C)"
   ]
  },
  {
   "cell_type": "code",
   "execution_count": null,
   "id": "495713f5-dedf-418c-b2ea-bbccc83e16c1",
   "metadata": {},
   "outputs": [],
   "source": []
  }
 ],
 "metadata": {
  "kernelspec": {
   "display_name": "Python 3 (ipykernel)",
   "language": "python",
   "name": "python3"
  },
  "language_info": {
   "codemirror_mode": {
    "name": "ipython",
    "version": 3
   },
   "file_extension": ".py",
   "mimetype": "text/x-python",
   "name": "python",
   "nbconvert_exporter": "python",
   "pygments_lexer": "ipython3",
   "version": "3.11.4"
  }
 },
 "nbformat": 4,
 "nbformat_minor": 5
}
