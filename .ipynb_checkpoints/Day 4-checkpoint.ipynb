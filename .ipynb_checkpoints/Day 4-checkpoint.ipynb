{
 "cells": [
  {
   "cell_type": "code",
   "execution_count": null,
   "id": "87ed8098-a833-4ed0-b2bd-eb8b164b3a64",
   "metadata": {},
   "outputs": [],
   "source": [
    "# Task 1: Do Fibonacci and factorial of a number using recursive functions."
   ]
  },
  {
   "cell_type": "code",
   "execution_count": 6,
   "id": "4f7eed0e-81fd-43de-bc4d-cf14d6acf487",
   "metadata": {},
   "outputs": [
    {
     "name": "stdin",
     "output_type": "stream",
     "text": [
      " 5\n"
     ]
    },
    {
     "name": "stdout",
     "output_type": "stream",
     "text": [
      "0 1 1 2 3 "
     ]
    }
   ],
   "source": [
    "# Fibonacci using a recursive function\n",
    "def fibonacci(n):\n",
    "    if n <= 0:\n",
    "        return 0\n",
    "    elif n == 1:\n",
    "        return 1\n",
    "    else:\n",
    "        return fibonacci(n - 1) + fibonacci(n - 2)\n",
    "\n",
    "# print series\n",
    "num = int(input())\n",
    "for i in range(num):\n",
    "    print(fibonacci(i), end = \" \")"
   ]
  },
  {
   "cell_type": "code",
   "execution_count": 8,
   "id": "a43b87fd-abb4-4ac1-a231-ec267774c236",
   "metadata": {},
   "outputs": [
    {
     "data": {
      "text/plain": [
       "1"
      ]
     },
     "execution_count": 8,
     "metadata": {},
     "output_type": "execute_result"
    }
   ],
   "source": [
    "# Factorial of a number\n",
    "def factorial(n):\n",
    "    if n == 0 or n == 1:  \n",
    "        return 1\n",
    "    else:\n",
    "        return n * factorial(n - 1)\n",
    "factorial(0)"
   ]
  },
  {
   "cell_type": "code",
   "execution_count": null,
   "id": "71b3e81b-64ac-4ac7-b9af-e1a7d619f575",
   "metadata": {},
   "outputs": [],
   "source": [
    "# Task 2: Write example code for modules OS, Math and Random."
   ]
  },
  {
   "cell_type": "code",
   "execution_count": 2,
   "id": "46125ce4-f5eb-4541-bd6c-418ccf9e13a4",
   "metadata": {},
   "outputs": [
    {
     "name": "stdout",
     "output_type": "stream",
     "text": [
      "Current working directory: C:\\Users\\Dell\\Downloads\\Infosys classes\n",
      "Folder already exists\n",
      "['.ipynb_checkpoints', 'Day 1.ipynb', 'Day 2.ipynb', 'Day 3.ipynb', 'Day 4.ipynb', 'example.txt', 'test_folder']\n"
     ]
    }
   ],
   "source": [
    "# OS Module\n",
    "import os\n",
    "\n",
    "#get current directory\n",
    "print(\"Current working directory:\" , os.getcwd())\n",
    "\n",
    "if not os.path.exists(\"test_folder\"):\n",
    "    os.mkdir(\"test_folder\")\n",
    "\n",
    "else:\n",
    "    print(\"Folder already exists\")\n",
    "\n",
    "# List files and directories\n",
    "print(os.listdir())"
   ]
  },
  {
   "cell_type": "code",
   "execution_count": 6,
   "id": "1791519b-b038-4874-b914-60d731028b11",
   "metadata": {},
   "outputs": [
    {
     "name": "stdout",
     "output_type": "stream",
     "text": [
      "Changed working directory to: C:\\Users\\Dell\\Downloads\\Infosys classes\\test_folder\n",
      "Back to: C:\\Users\\Dell\\Downloads\\Infosys classes\n",
      "Folder 'test_folder' removed\n"
     ]
    }
   ],
   "source": [
    "# Change current working directory to the new folder\n",
    "os.chdir(\"test_folder\")\n",
    "print(\"Changed working directory to:\" , os.getcwd())\n",
    "\n",
    "# Go back to the parent directory\n",
    "os.chdir(\"..\")\n",
    "print(\"Back to:\" , os.getcwd())\n",
    "\n",
    "# Remove the folder (must be empty)\n",
    "os.rmdir(\"test_folder\")\n",
    "print(\"Folder 'test_folder' removed\")"
   ]
  },
  {
   "cell_type": "code",
   "execution_count": 7,
   "id": "8a437741-0959-45a3-b73d-656a83c1c901",
   "metadata": {},
   "outputs": [
    {
     "name": "stdout",
     "output_type": "stream",
     "text": [
      "Square root of 25: 5.0\n",
      "Factorial of 5: 120\n",
      "Power (2^4): 8.0\n",
      "Value of pi: 3.141592653589793\n",
      "Floor of 3.9: 3\n",
      "Ceil of 3.9: 4\n"
     ]
    }
   ],
   "source": [
    "# Math Module\n",
    "import math\n",
    "\n",
    "print(\"Square root of 25:\" , math.sqrt(25))\n",
    "print(\"Factorial of 5:\" , math.factorial(5))\n",
    "print(\"Power (2^4):\" , math.pow(2,3))\n",
    "print(\"Value of pi:\" , math.pi)\n",
    "print(\"Floor of 3.9:\" , math.floor(3.9))\n",
    "print(\"Ceil of 3.9:\" , math.ceil(3.7))\n"
   ]
  },
  {
   "cell_type": "code",
   "execution_count": 9,
   "id": "3dedd8a2-889d-48d2-a5db-003c4b3db93d",
   "metadata": {},
   "outputs": [
    {
     "name": "stdout",
     "output_type": "stream",
     "text": [
      "Random integer between 1 and 10: 1\n",
      "Random floating number between 0 and 1: 0.8599544365122727\n",
      "Random choice from a list: apple\n",
      "Random sample of 2 elements: [1, 2]\n",
      "[2, 5, 4, 3, 1]\n"
     ]
    }
   ],
   "source": [
    "# Random Module\n",
    "\n",
    "import random\n",
    "print(\"Random integer between 1 and 10:\" , random.randint(1,10))\n",
    "print(\"Random floating number between 0 and 1:\" , random.random())\n",
    "print(\"Random choice from a list:\" , random.choice(['apple' , 'banana' , 'cherry']))\n",
    "print(\"Random sample of 2 elements:\" , random.sample([1,2,3,4,5],2))\n",
    "\n",
    "#Shuffle a list\n",
    "numbers = [1,2,3,4,5]\n",
    "random.shuffle(numbers)\n",
    "print(numbers)"
   ]
  },
  {
   "cell_type": "code",
   "execution_count": 8,
   "id": "e3bdc6bc-17ec-4be2-a750-d75185412724",
   "metadata": {},
   "outputs": [],
   "source": [
    "# Task 3: list, tuple and dictionary comprehension. Runtime arguments with *args and **kwargs."
   ]
  },
  {
   "cell_type": "code",
   "execution_count": 10,
   "id": "63ea6992-5a25-486d-a96d-7a2828f914a3",
   "metadata": {},
   "outputs": [
    {
     "name": "stdout",
     "output_type": "stream",
     "text": [
      "List Comprehension: [1, 4, 9, 16, 25]\n"
     ]
    }
   ],
   "source": [
    "# List Comprehension\n",
    "squares = [x**2 for x in range(1,6)]\n",
    "print(\"List Comprehension:\" , squares)"
   ]
  },
  {
   "cell_type": "code",
   "execution_count": 11,
   "id": "64b5b850-6bea-4636-84b4-bf82407ae855",
   "metadata": {},
   "outputs": [
    {
     "name": "stdout",
     "output_type": "stream",
     "text": [
      "(2, 4, 6, 8, 10)\n"
     ]
    }
   ],
   "source": [
    "# Tuple Comprehension\n",
    "evens = tuple(x for x in range(1,11) if x%2 == 0)\n",
    "print(evens)"
   ]
  },
  {
   "cell_type": "code",
   "execution_count": 12,
   "id": "311f15bd-4464-4f7c-81b6-b55175d53c83",
   "metadata": {},
   "outputs": [
    {
     "name": "stdout",
     "output_type": "stream",
     "text": [
      "{1: 1, 2: 4, 3: 9, 4: 16, 5: 25}\n"
     ]
    }
   ],
   "source": [
    "# Dictionary Comprehension\n",
    "squares_dict = {x:x**2 for x in range(1,6)}\n",
    "print(squares_dict)"
   ]
  },
  {
   "cell_type": "code",
   "execution_count": 13,
   "id": "1c033e77-7475-4199-b21c-98e21ba0c5ee",
   "metadata": {},
   "outputs": [
    {
     "name": "stdout",
     "output_type": "stream",
     "text": [
      "21\n"
     ]
    }
   ],
   "source": [
    "# *args (variable-length positonal arguments\n",
    "def add_numbers(*args):\n",
    "    return sum(args)\n",
    "\n",
    "print(add_numbers(1,2,3,4,5,6))"
   ]
  },
  {
   "cell_type": "code",
   "execution_count": 16,
   "id": "b1cb66cd-b9bd-497e-975d-5a9f85f3b760",
   "metadata": {},
   "outputs": [
    {
     "name": "stdout",
     "output_type": "stream",
     "text": [
      "name:Arial\n",
      "age:100\n",
      "address:Water\n"
     ]
    }
   ],
   "source": [
    "# **kwargs (variable-length keyword arguments)\n",
    "\n",
    "def a(**kwargs):\n",
    "    for key, value in kwargs.items():\n",
    "        print(f\"{key}:{value}\")\n",
    "a(name = \"Arial\" , age = 100 , address = \"Water\")"
   ]
  },
  {
   "cell_type": "code",
   "execution_count": 15,
   "id": "0f781592-ca4c-49eb-9275-47efde796cbd",
   "metadata": {},
   "outputs": [],
   "source": [
    "# Class Work"
   ]
  },
  {
   "cell_type": "code",
   "execution_count": 1,
   "id": "5e8db941-d94c-43b6-9ca6-76047a39e7cc",
   "metadata": {},
   "outputs": [
    {
     "name": "stdout",
     "output_type": "stream",
     "text": [
      "Am doing internship in infosys.\n"
     ]
    }
   ],
   "source": [
    "def company():\n",
    "    print(\"Am doing internship in infosys.\")\n",
    "company()"
   ]
  },
  {
   "cell_type": "code",
   "execution_count": 2,
   "id": "bc62826b-00d4-426a-aa48-2f6d305ae7fc",
   "metadata": {},
   "outputs": [
    {
     "name": "stdout",
     "output_type": "stream",
     "text": [
      "am doing internship in infosys in TCS\n"
     ]
    }
   ],
   "source": [
    "def company(com_name):\n",
    "    print(f'am doing internship in infosys in {com_name}')\n",
    "company(\"TCS\")  # direct way of passing arguments."
   ]
  },
  {
   "cell_type": "code",
   "execution_count": 3,
   "id": "1f6abafd-c217-47a3-9603-0ac57741a304",
   "metadata": {},
   "outputs": [
    {
     "name": "stdout",
     "output_type": "stream",
     "text": [
      "am doing internship in infosys in Wipro\n"
     ]
    }
   ],
   "source": [
    "comp = 'Wipro'\n",
    "company(comp)  # indirect way of passing the arguments"
   ]
  },
  {
   "cell_type": "code",
   "execution_count": 4,
   "id": "c78b5a4f-b235-47c1-8f56-9dbc7ee59ba3",
   "metadata": {},
   "outputs": [],
   "source": [
    "# Return Keywords\n",
    "def company():\n",
    "    print(\"Am doing internship in infosys.\")\n",
    "    sal = 10000 + 2000\n",
    "    return sal\n",
    "    "
   ]
  },
  {
   "cell_type": "code",
   "execution_count": 5,
   "id": "ce3d2315-af6a-4141-8f9e-e66cf8051d7f",
   "metadata": {},
   "outputs": [
    {
     "name": "stdout",
     "output_type": "stream",
     "text": [
      "Am doing internship in infosys.\n"
     ]
    },
    {
     "data": {
      "text/plain": [
       "12000"
      ]
     },
     "execution_count": 5,
     "metadata": {},
     "output_type": "execute_result"
    }
   ],
   "source": [
    "company()"
   ]
  },
  {
   "cell_type": "code",
   "execution_count": 37,
   "id": "d819e3ee-da0e-4c3f-82d5-64df4289dfe2",
   "metadata": {},
   "outputs": [
    {
     "name": "stdout",
     "output_type": "stream",
     "text": [
      "Result: 16\n"
     ]
    }
   ],
   "source": [
    "def calculator(a,b,c):\n",
    "    if c == \"+\":\n",
    "         print(\"Result:\", a + b)\n",
    "    elif c == \"-\":\n",
    "        print(\"Result:\", a - b)\n",
    "    elif c == \"*\":\n",
    "        print(\"Result:\", a * b)\n",
    "    elif c == \"/\":\n",
    "        if b != 0:\n",
    "            print(a/b)\n",
    "        else:\n",
    "            print(\"error\")\n",
    "    elif c == '//':  # class is int type (floor division)\n",
    "        if b != 0:\n",
    "            print(\"Result:\" , a//b)\n",
    "        else:\n",
    "            print(\"Error\")\n",
    "\n",
    "    elif c == '%':  # Modulus\n",
    "        if b != 0:\n",
    "            print(\"Result:\" , a%b)\n",
    "        else:\n",
    "            print(\"Error\")\n",
    "\n",
    "    elif c == '**':   # Exponentiation\n",
    "        print(\"Result:\" , a**b)\n",
    "\n",
    "    else:\n",
    "        print(\"Invalid operator\")\n",
    "\n",
    "calculator(a,b,'+')"
   ]
  },
  {
   "cell_type": "code",
   "execution_count": 10,
   "id": "65d278e8-b97f-40c5-b661-4fc32890f0d3",
   "metadata": {},
   "outputs": [],
   "source": [
    "# Arguments in a function definition are formal arguments"
   ]
  },
  {
   "cell_type": "code",
   "execution_count": 16,
   "id": "e6787868-30e1-4028-b68a-8528488605f4",
   "metadata": {},
   "outputs": [],
   "source": [
    "def laptop(brand , price):\n",
    "    print(f'My laptop os of {brand} and it costed me {price}.')\n"
   ]
  },
  {
   "cell_type": "code",
   "execution_count": 17,
   "id": "63b088c1-a0fb-4dcc-86e6-fde1efd1a82f",
   "metadata": {},
   "outputs": [
    {
     "name": "stdout",
     "output_type": "stream",
     "text": [
      "My laptop os of Dell and it costed me 50000.\n"
     ]
    }
   ],
   "source": [
    "laptop(price = 50000,brand ='Dell')"
   ]
  },
  {
   "cell_type": "code",
   "execution_count": 23,
   "id": "3def761f-0bd2-49ee-aea6-a5a96033c390",
   "metadata": {},
   "outputs": [
    {
     "name": "stdout",
     "output_type": "stream",
     "text": [
      "my friend is working in samsung company\n",
      "am using oppo mobile for multipupose\n"
     ]
    }
   ],
   "source": [
    "#local & global variables \n",
    "phone='samsung' #global variable \n",
    "def device():\n",
    "    global phone\n",
    "    phone='oppo' #local variable \n",
    "    print(f'am using {phone} mobile for multipupose') \n",
    "print(f'my friend is working in {phone} company')\n",
    "device()    "
   ]
  },
  {
   "cell_type": "code",
   "execution_count": 24,
   "id": "82a4e0fe-8494-4ac3-a4dc-21b597280841",
   "metadata": {},
   "outputs": [
    {
     "name": "stdout",
     "output_type": "stream",
     "text": [
      "am using oppo mobile for multipupose\n",
      "my friend is working in oppo company\n"
     ]
    }
   ],
   "source": [
    "#local & global variables \n",
    "phone='samsung' #global variable \n",
    "def device():\n",
    "    global phone\n",
    "    phone='oppo' #local variable \n",
    "    print(f'am using {phone} mobile for multipupose') \n",
    "device() \n",
    "print(f'my friend is working in {phone} company')\n",
    "  "
   ]
  },
  {
   "cell_type": "code",
   "execution_count": 35,
   "id": "a32f7b9d-9e73-4a93-8455-8ce44d4fedae",
   "metadata": {},
   "outputs": [],
   "source": [
    "import math\n",
    "Name = 'this is a gobal string'\n",
    "def greet():\n",
    "    #Name = 'I am enclosing'\n",
    "    def hello():\n",
    "        # local\n",
    "        # Name = 'I am local'\n",
    "        print(f'pi value is {math.pi}')\n",
    "        print('hello' +  Name)\n",
    "    hello()"
   ]
  },
  {
   "cell_type": "code",
   "execution_count": 36,
   "id": "9cae83bc-5529-4b6f-9863-c76bd21e7773",
   "metadata": {},
   "outputs": [
    {
     "name": "stdout",
     "output_type": "stream",
     "text": [
      "pi value is 3.141592653589793\n",
      "hellothis is a gobal string\n"
     ]
    }
   ],
   "source": [
    "greet()"
   ]
  },
  {
   "cell_type": "code",
   "execution_count": null,
   "id": "9880b46c-c8b8-4aa3-80f2-34f83faac9f8",
   "metadata": {},
   "outputs": [],
   "source": [
    "import random\n",
    "random.randint("
   ]
  },
  {
   "cell_type": "code",
   "execution_count": null,
   "id": "9824dcc3-9491-4c5c-8738-39b379a6b6ec",
   "metadata": {},
   "outputs": [],
   "source": []
  }
 ],
 "metadata": {
  "kernelspec": {
   "display_name": "Python 3 (ipykernel)",
   "language": "python",
   "name": "python3"
  },
  "language_info": {
   "codemirror_mode": {
    "name": "ipython",
    "version": 3
   },
   "file_extension": ".py",
   "mimetype": "text/x-python",
   "name": "python",
   "nbconvert_exporter": "python",
   "pygments_lexer": "ipython3",
   "version": "3.11.4"
  }
 },
 "nbformat": 4,
 "nbformat_minor": 5
}
