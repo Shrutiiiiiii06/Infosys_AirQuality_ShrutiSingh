{
 "cells": [
  {
   "cell_type": "code",
   "execution_count": null,
   "id": "2a06bf21-c659-43a5-94cd-e0d973ac7311",
   "metadata": {},
   "outputs": [],
   "source": [
    "# Task 2: Write code for multiple, multilevel, hierarchical, hybrid."
   ]
  },
  {
   "cell_type": "code",
   "execution_count": 1,
   "id": "12234c73-6323-4cad-bcaa-c21db5c1633d",
   "metadata": {},
   "outputs": [
    {
     "name": "stdout",
     "output_type": "stream",
     "text": [
      "Play Football\n",
      "Loves Painting\n"
     ]
    }
   ],
   "source": [
    "# Multiple Inheritance\n",
    "class Sports:\n",
    "    def activity(self):\n",
    "        print(\"Play Football\")\n",
    "\n",
    "class Studies:\n",
    "    def activity(self):\n",
    "        print(\"Studies Computer Science\")\n",
    "\n",
    "class Student(Sports , Studies):\n",
    "    def hobby(self):\n",
    "        print(\"Loves Painting\")\n",
    "\n",
    "s = Student()\n",
    "s.activity()\n",
    "s.hobby()"
   ]
  },
  {
   "cell_type": "code",
   "execution_count": 2,
   "id": "2c1e64c6-238d-4609-8955-269485ec3d16",
   "metadata": {},
   "outputs": [
    {
     "name": "stdout",
     "output_type": "stream",
     "text": [
      "This is a company\n",
      "This is the IT Department\n",
      "Employee works in IT Department\n"
     ]
    }
   ],
   "source": [
    "# Multilevel Inheritance\n",
    "class Company:\n",
    "    def info(self):\n",
    "        print(\"This is a company\")\n",
    "class Department(Company):\n",
    "    def dept(self):\n",
    "        print(\"This is the IT Department\")\n",
    "class Employee(Department):\n",
    "    def details(self):\n",
    "        print(\"Employee works in IT Department\")\n",
    "obj = Employee()\n",
    "obj.info()\n",
    "obj.dept()\n",
    "obj.details()"
   ]
  },
  {
   "cell_type": "code",
   "execution_count": null,
   "id": "b8e1b899-5985-4f10-9ddf-dd129f4cdc6d",
   "metadata": {},
   "outputs": [],
   "source": [
    "# Hierarchical Inheritance"
   ]
  },
  {
   "cell_type": "code",
   "execution_count": 8,
   "id": "4ca06ebb-cd5f-46ac-9e8f-3c4c2d437be4",
   "metadata": {},
   "outputs": [
    {
     "name": "stdout",
     "output_type": "stream",
     "text": [
      "Car uses Petrol or Diesel\n",
      "Bike uses Petrol\n",
      "ElectricCar uses Electricity\n"
     ]
    }
   ],
   "source": [
    "class Vehicle:\n",
    "    def fuel_type(self):\n",
    "        print(\"Different vehicles use different fuel types\")\n",
    "\n",
    "class Car(Vehicle):\n",
    "    def fuel_type(self):\n",
    "        print(\"Car uses Petrol or Diesel\")\n",
    "\n",
    "class Bike(Vehicle):\n",
    "    def fuel_type(self):\n",
    "        print(\"Bike uses Petrol\")\n",
    "\n",
    "class ElectricCar(Vehicle):\n",
    "    def fuel_type(self):\n",
    "        print(\"ElectricCar uses Electricity\")\n",
    "\n",
    "car = Car()\n",
    "bike = Bike()\n",
    "electric = ElectricCar()\n",
    "\n",
    "car.fuel_type()\n",
    "bike.fuel_type()\n",
    "electric.fuel_type()"
   ]
  },
  {
   "cell_type": "code",
   "execution_count": null,
   "id": "90c14ad1-f629-4729-aa4e-e1d7807b009b",
   "metadata": {},
   "outputs": [],
   "source": [
    "# Hybrid Inheritance"
   ]
  },
  {
   "cell_type": "code",
   "execution_count": 9,
   "id": "416ee42b-210e-4166-8929-0e6f4c7359a0",
   "metadata": {},
   "outputs": [
    {
     "name": "stdout",
     "output_type": "stream",
     "text": [
      "I am a Person\n",
      "I am an Employee\n",
      "I am a Teacher\n",
      "I am a Professor\n"
     ]
    }
   ],
   "source": [
    "class Person:\n",
    "    def display(self):\n",
    "        print(\"I am a Person\")\n",
    "\n",
    "class Employee(Person):\n",
    "    def display_emp(self):\n",
    "        print(\"I am an Employee\")\n",
    "\n",
    "class Teacher(Person):\n",
    "    def display_teacher(self):\n",
    "        print(\"I am a Teacher\")\n",
    "\n",
    "class Professor(Employee, Teacher):  # Hybrid (Multiple + Multilevel + Hierarchical)\n",
    "    def display_prof(self):\n",
    "        print(\"I am a Professor\")\n",
    "\n",
    "p = Professor()\n",
    "p.display()          # From Person\n",
    "p.display_emp()      # From Employee\n",
    "p.display_teacher()  # From Teacher\n",
    "p.display_prof()     # From Professor"
   ]
  },
  {
   "cell_type": "code",
   "execution_count": null,
   "id": "3002dd5d-6575-4d3a-8f54-2ecda870dbc4",
   "metadata": {},
   "outputs": [],
   "source": [
    "# Task 3: Write code for overriding and overloading."
   ]
  },
  {
   "cell_type": "code",
   "execution_count": 10,
   "id": "e928282e-28ae-4ede-948b-29049350ddda",
   "metadata": {},
   "outputs": [
    {
     "name": "stdout",
     "output_type": "stream",
     "text": [
      "Animals make different sounds.\n",
      "Dog barks.\n",
      "Cat meows.\n"
     ]
    }
   ],
   "source": [
    "# Method Overriding\n",
    "\n",
    "class Animal:\n",
    "    def sound(self):\n",
    "        print(\"Animals make different sounds.\")\n",
    "\n",
    "class Dog(Animal):\n",
    "    def sound(self):                 # overriding the parent class method\n",
    "        print(\"Dog barks.\")\n",
    "\n",
    "class Cat(Animal):\n",
    "    def sound(self):                  # overriding again\n",
    "        print(\"Cat meows.\")\n",
    "\n",
    "a = Animal()\n",
    "a.sound()\n",
    "\n",
    "d = Dog()\n",
    "d.sound()\n",
    "\n",
    "c = Cat()\n",
    "c.sound()"
   ]
  },
  {
   "cell_type": "code",
   "execution_count": 11,
   "id": "da7804f6-d108-4f71-b931-e52b554148f8",
   "metadata": {},
   "outputs": [
    {
     "name": "stdout",
     "output_type": "stream",
     "text": [
      "0\n",
      "10\n",
      "30\n"
     ]
    }
   ],
   "source": [
    "# Method Overloading\n",
    "\n",
    "class Calculator:\n",
    "    def add(self , a = 0 , b = 0 , c = 0):\n",
    "        return a + b + c\n",
    "\n",
    "c = Calculator()\n",
    "\n",
    "print(c.add())                     # no arguments\n",
    "print(c.add(10))                   # one argument\n",
    "print(c.add(10,20))                # two arguments"
   ]
  },
  {
   "cell_type": "code",
   "execution_count": null,
   "id": "bfb5d3bd-2ebc-4e12-918d-b60c2dc3b1af",
   "metadata": {},
   "outputs": [],
   "source": [
    "# Class Task 1: Design a calculator using OOPs concepts."
   ]
  },
  {
   "cell_type": "code",
   "execution_count": 12,
   "id": "219c576e-09d8-4745-9e6c-b6973d525090",
   "metadata": {},
   "outputs": [
    {
     "name": "stdout",
     "output_type": "stream",
     "text": [
      "Addition: 15\n",
      "Subtraction: 9\n",
      "Multiplication: 36\n",
      "Division: 4.0\n",
      "Floor Division: 4\n",
      "Modulus: 0\n",
      "Power: 1728\n"
     ]
    }
   ],
   "source": [
    "class Calculator:\n",
    "    def __init__(self, a, b):\n",
    "        self.a = a\n",
    "        self.b = b\n",
    "\n",
    "    def add(self):\n",
    "        return self.a + self.b\n",
    "\n",
    "    def subtract(self):\n",
    "        return self.a - self.b\n",
    "\n",
    "    def multiply(self):\n",
    "        return self.a * self.b\n",
    "\n",
    "    def divide(self):\n",
    "        if self.b != 0:\n",
    "            return self.a / self.b\n",
    "        else:\n",
    "            return \"Error\"\n",
    "\n",
    "    def floor_division(self):\n",
    "        if self.b != 0:\n",
    "            return self.a // self.b\n",
    "        else:\n",
    "            return \"Error\"\n",
    "\n",
    "    def modulus(self):\n",
    "        if self.b != 0:\n",
    "            return self.a % self.b\n",
    "        else:\n",
    "            return \"Error\"\n",
    "\n",
    "    def power(self):\n",
    "        return self.a ** self.b\n",
    "\n",
    "\n",
    "c = Calculator(12, 3)\n",
    "\n",
    "print(\"Addition:\", c.add())\n",
    "print(\"Subtraction:\", c.subtract())\n",
    "print(\"Multiplication:\", c.multiply())\n",
    "print(\"Division:\", c.divide())\n",
    "print(\"Floor Division:\", c.floor_division())\n",
    "print(\"Modulus:\", c.modulus())\n",
    "print(\"Power:\", c.power())"
   ]
  },
  {
   "cell_type": "code",
   "execution_count": 1,
   "id": "2c8506da-a929-43ef-9c5c-854f0381f3ff",
   "metadata": {},
   "outputs": [
    {
     "name": "stdout",
     "output_type": "stream",
     "text": [
      "she is Rahul and 25 years old\n"
     ]
    }
   ],
   "source": [
    "class Infosys:\n",
    "    name = 'Rahul'# data attributes/features\n",
    "    age = 25\n",
    "    def display(self):\n",
    "        print(f'she is {self.name} and {self.age} years old.')\n",
    "\n",
    "#creating objects\n",
    "obj = Infosys()\n",
    "obj.display()"
   ]
  },
  {
   "cell_type": "code",
   "execution_count": 13,
   "id": "6dfd379d-a33e-4dd8-bac5-392d2c0ec7e0",
   "metadata": {},
   "outputs": [
    {
     "name": "stdout",
     "output_type": "stream",
     "text": [
      "am called implicitly even without calling me explicitly.\n",
      "name: ravi\n",
      "gender: male\n",
      "am called implicitly even without calling me explicitly.\n",
      "name: nida\n",
      "gender: female\n"
     ]
    }
   ],
   "source": [
    "# constructors \n",
    "class Person:\n",
    "    def __init__(self, a= 'ravi', b = 'male'):\n",
    "                 self.name = a\n",
    "                 self.gender = b\n",
    "                 print(\"am called implicitly even without calling me explicitly.\")\n",
    "    def showinfo(self):\n",
    "        print('name:', self.name)\n",
    "        print('gender:', self.gender)\n",
    "\n",
    "obj2 = Person()\n",
    "obj2.showinfo()\n",
    "obj3 = Person('nida', 'female')\n",
    "obj3.showinfo()"
   ]
  },
  {
   "cell_type": "code",
   "execution_count": 5,
   "id": "bc7b8e84-17b9-4083-9f7d-93b65e360b21",
   "metadata": {},
   "outputs": [
    {
     "name": "stdout",
     "output_type": "stream",
     "text": [
      "Ram\n",
      "nida\n",
      "jyothi\n",
      "this is jyothi\n",
      "jyothi\n",
      "<__main__.Employee object at 0x000001476F5F5650>\n",
      "Mindteck Private Limited\n"
     ]
    }
   ],
   "source": [
    "#class variables & instance variables\n",
    " \n",
    "#class & instance Variables\n",
    "\n",
    "#Class variables & instance variables\n",
    " \n",
    "#using self\n",
    "\n",
    "class Employee:\n",
    "\n",
    "    office_name = \"Mindteck Private Limited\"    #a variable that is declared outside all methods but within class is class variable  \n",
    "\n",
    "                                           #Class variables can be shared across all objects but instance variables cannot be shared\n",
    "\n",
    "    def __init__(self, name):\n",
    "\n",
    "        self.name = name               #instance variable\n",
    "\n",
    "        print(self.name)\n",
    " \n",
    "    def show(self):\n",
    "\n",
    "        print(f'this is {self.name}')\n",
    "\n",
    "emp1 = Employee(\"Ram\")\n",
    "\n",
    "emp1.office_name\n",
    "\n",
    "emp2=Employee('nida')\n",
    "\n",
    "emp2.office_name\n",
    "\n",
    "emp=Employee('jyothi')\n",
    "\n",
    "emp.show()\n",
    " \n",
    "print(emp.name)\n",
    "\n",
    "print(emp)\n",
    " \n",
    "print(Employee.office_name)\n",
    "\n",
    "#print(Employee.name)\n",
    " "
   ]
  },
  {
   "cell_type": "code",
   "execution_count": 14,
   "id": "ef94a50b-989f-4347-b35e-1bd59856ad7f",
   "metadata": {},
   "outputs": [
    {
     "name": "stdout",
     "output_type": "stream",
     "text": [
      "Starting engine...\n",
      "Starting engine...\n",
      "Driving the car...\n"
     ]
    }
   ],
   "source": [
    "class Vehicle:\n",
    "    def __init__(self, make, model, year):\n",
    "        self.make = make\n",
    "        self.model = model\n",
    "        self.year = year\n",
    "    def start_engine(self):\n",
    "        print(\"Starting engine...\")\n",
    " \n",
    "#derived class/child class\n",
    "class Car(Vehicle):\n",
    "    def __init__(self, make, model, year, num_doors):\n",
    "        super().__init__(make, model, year)\n",
    "        self.num_doors = num_doors\n",
    "    def drive(self):\n",
    "        print(\"Driving the car...\")\n",
    " \n",
    "vehicle = Vehicle(\"Toyota\", \"Corolla\", 2022)\n",
    "vehicle.start_engine()  # prints \"Starting engine...\"\n",
    " \n",
    "car = Car(\"Tesla\", \"Model S\", 2021, 4)\n",
    "car.start_engine()      # prints \"Starting engine...\"\n",
    " \n",
    "#child can call parent functions but parent cannot call child functions\n",
    "#vehicle.drive()       # This will produce an error, as the drive() method is not defined for the Vehicle class\n",
    "car.drive()"
   ]
  },
  {
   "cell_type": "code",
   "execution_count": 15,
   "id": "ac3437e9-c396-4341-88fd-1b2e82ea417a",
   "metadata": {},
   "outputs": [
    {
     "name": "stdout",
     "output_type": "stream",
     "text": [
      "am in addition with + operator overloading\n",
      "am in string magic method\n",
      "distance: 18 feet and 7 inches\n"
     ]
    }
   ],
   "source": [
    "#operator overloading is adding 2 objects just like normal variables. \n",
    "class distance:\n",
    "    def __init__(self, x, y):\n",
    "        self.feet = x\n",
    "        self.inches = y\n",
    "    def __add__(self,other):  # Overloading +\n",
    "        print(\"am in addition with + operator overloading\")\n",
    "        final_feet = self.feet + other.feet\n",
    "        final_inches = self.inches + other.inches   # your custom logic\n",
    "        if final_inches >= 12:\n",
    "            final_feet += final_inches // 12\n",
    "            final_inches = final_inches % 12\n",
    "        return distance(final_feet, final_inches)\n",
    "    def __str__(self):  # Overloading str()\n",
    "        print(\"am in string magic method\")\n",
    "        return \"distance: \" + str(self.feet) + \" feet and \" + str(self.inches) + \" inches\"\n",
    "d1 = distance(9, 10)\n",
    "d2 = distance(8, 9)\n",
    "d3=d1+d2  #\n",
    "print(d3)"
   ]
  }
 ],
 "metadata": {
  "kernelspec": {
   "display_name": "Python 3 (ipykernel)",
   "language": "python",
   "name": "python3"
  },
  "language_info": {
   "codemirror_mode": {
    "name": "ipython",
    "version": 3
   },
   "file_extension": ".py",
   "mimetype": "text/x-python",
   "name": "python",
   "nbconvert_exporter": "python",
   "pygments_lexer": "ipython3",
   "version": "3.11.4"
  }
 },
 "nbformat": 4,
 "nbformat_minor": 5
}
