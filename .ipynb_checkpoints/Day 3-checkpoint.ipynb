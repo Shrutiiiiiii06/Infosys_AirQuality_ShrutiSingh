{
 "cells": [
  {
   "cell_type": "code",
   "execution_count": null,
   "id": "67c02250-9f24-4c25-9128-3e102e65f3f3",
   "metadata": {},
   "outputs": [],
   "source": [
    "# Task 1: Write a code for a calculator with all 7 operators."
   ]
  },
  {
   "cell_type": "code",
   "execution_count": 2,
   "id": "7fec73d9-6e73-4598-9228-34800d8c5969",
   "metadata": {},
   "outputs": [
    {
     "name": "stdin",
     "output_type": "stream",
     "text": [
      "Enter first number: 12\n",
      "Enter second number: 4\n",
      "Enter the operator(+.-,/,//,%,**): //\n"
     ]
    },
    {
     "name": "stdout",
     "output_type": "stream",
     "text": [
      "Result: 3.0\n"
     ]
    }
   ],
   "source": [
    "# Taking inputs\n",
    "a = float(input(\"Enter first number:\"))\n",
    "b = float(input(\"Enter second number:\"))\n",
    "c = input(\"Enter the operator(+.-,*,/,//,%,**):\")\n",
    "\n",
    "# performing operations\n",
    "if c == '+':\n",
    "    print(\"Result:\" , a+b)\n",
    "\n",
    "elif c == '-':\n",
    "    print(\"Result:\" , a-b)\n",
    "\n",
    "elif c == '*':\n",
    "    print(\"Result:\" , a*b)\n",
    "\n",
    "elif c == '/':  # class is float type (Division)\n",
    "    if b != 0:\n",
    "        print(\"Result:\" , a/b)\n",
    "    else:\n",
    "        print(\"Error\")\n",
    "        \n",
    "elif c == '//':  # class is int type (floor division)\n",
    "    if b != 0:\n",
    "        print(\"Result:\" , a//b)\n",
    "    else:\n",
    "        print(\"Error\")\n",
    "\n",
    "elif c == '%':  # Modulus\n",
    "    if b != 0:\n",
    "        print(\"Result:\" , a%b)\n",
    "    else:\n",
    "        print(\"Error\")\n",
    "\n",
    "elif c == '**':   # Exponentiation\n",
    "    print(\"Result:\" , a**b)\n",
    "\n",
    "else:\n",
    "    print(\"Invalid operator\")\n",
    "    "
   ]
  },
  {
   "cell_type": "code",
   "execution_count": null,
   "id": "cb3fdbd4-6517-4b44-b8ba-2ec90c31bbe3",
   "metadata": {},
   "outputs": [],
   "source": [
    "# Task 2: For loop using tuple, dictionary, set."
   ]
  },
  {
   "cell_type": "code",
   "execution_count": 3,
   "id": "5437f0f8-1a4a-45b0-bae0-ecdfa95b423f",
   "metadata": {},
   "outputs": [
    {
     "name": "stdout",
     "output_type": "stream",
     "text": [
      "apple\n",
      "banana\n",
      "cherry\n"
     ]
    }
   ],
   "source": [
    "# Tuple\n",
    "fruits = (\"apple\", \"banana\", \"cherry\")\n",
    "for item in fruits:\n",
    "    print(item)"
   ]
  },
  {
   "cell_type": "code",
   "execution_count": 6,
   "id": "914bcf5c-7891-4fa2-9887-794000961b17",
   "metadata": {},
   "outputs": [
    {
     "name": "stdout",
     "output_type": "stream",
     "text": [
      "name : Shruti\n",
      "age : 21\n",
      "course : Data Science\n"
     ]
    }
   ],
   "source": [
    "# Dictionary \n",
    "student = {\"name\": \"Shruti\", \"age\": 21, \"course\": \"Data Science\"}\n",
    "for key, value in student.items():\n",
    "    print(key , \":\" , value)"
   ]
  },
  {
   "cell_type": "code",
   "execution_count": 7,
   "id": "0ef64498-ccb9-48d2-b031-1f76aa54e039",
   "metadata": {},
   "outputs": [
    {
     "name": "stdout",
     "output_type": "stream",
     "text": [
      "50\n",
      "20\n",
      "40\n",
      "10\n",
      "60\n",
      "30\n"
     ]
    }
   ],
   "source": [
    "# Set \n",
    "numbers = {10,20,30,40,50,60}\n",
    "for num in numbers:\n",
    "    print(num)"
   ]
  },
  {
   "cell_type": "code",
   "execution_count": null,
   "id": "ed8d7161-3fcb-40a8-ad60-e1fbbcf21bfa",
   "metadata": {},
   "outputs": [],
   "source": [
    "# Task 3: Design a calculator using structural pattern matching."
   ]
  },
  {
   "cell_type": "code",
   "execution_count": 12,
   "id": "94064fe7-9832-4747-b8e3-f049cc8d72ab",
   "metadata": {},
   "outputs": [
    {
     "name": "stdin",
     "output_type": "stream",
     "text": [
      "Enter first number: 12\n",
      "Enter second number: 4\n",
      "Enter the operator(+.-,/,//,%,**): //\n"
     ]
    },
    {
     "name": "stdout",
     "output_type": "stream",
     "text": [
      "Result: 3.0\n"
     ]
    }
   ],
   "source": [
    "# Taking inputs\n",
    "a = float(input(\"Enter first number:\"))\n",
    "b = float(input(\"Enter second number:\"))\n",
    "c = input(\"Enter the operator(+.-,/,//,%,**):\")\n",
    "\n",
    "# performing pattern matching\n",
    "match c:\n",
    "    case '+':\n",
    "        print(\"Result:\" , a+b)\n",
    "    case '-':\n",
    "        print(\"Result:\" , a-b)\n",
    "    case '*':\n",
    "        print(\"Result:\" , a*b)\n",
    "    case '/':\n",
    "        if b != 0:\n",
    "            print(\"Result:\" , a/b)\n",
    "        else:\n",
    "            print(\"Error\")\n",
    "            \n",
    "    case '//':\n",
    "        if b != 0:\n",
    "            print(\"Result:\" , a//b)\n",
    "        else:\n",
    "            print(\"Error\")\n",
    "\n",
    "    case '%':\n",
    "         if b != 0:\n",
    "            print(\"Result:\" , a%b)\n",
    "         else:\n",
    "            print(\"Error\")\n",
    "    case '**':\n",
    "         print(\"Result:\" , a**b)\n",
    "    case _:\n",
    "        print(\"Invaild operator\")\n",
    "    \n",
    "        \n",
    "        "
   ]
  },
  {
   "cell_type": "code",
   "execution_count": null,
   "id": "ad8491b0-8eea-4f71-bd9e-abe4909954a1",
   "metadata": {},
   "outputs": [],
   "source": [
    "# Task 4: Write all file concept commands."
   ]
  },
  {
   "cell_type": "code",
   "execution_count": 17,
   "id": "8b198665-9bf9-4673-bab7-405535dcf65e",
   "metadata": {},
   "outputs": [],
   "source": [
    "# open a file\n",
    "f = open(\"example.txt\", \"w\") #open file for writing\n",
    "f.write(\"Hello! Welcome to Infosys Virtual Internship.\")\n",
    "f.close()"
   ]
  },
  {
   "cell_type": "code",
   "execution_count": 18,
   "id": "62e02f26-c32b-4c63-8812-5447a06b3ba4",
   "metadata": {},
   "outputs": [
    {
     "name": "stdout",
     "output_type": "stream",
     "text": [
      "Hello! Welcome to Infosys Virtual Internship.\n",
      "Hello! Wel\n",
      "Hello! Welcome to Infosys Virtual Internship.\n",
      "['Hello! Welcome to Infosys Virtual Internship.']\n"
     ]
    }
   ],
   "source": [
    "# reading entire file\n",
    "f = open(\"example.txt\", \"r\")\n",
    "print(f.read())\n",
    "f.close()\n",
    "\n",
    "# read only first 10 characters\n",
    "f = open(\"example.txt\", \"r\")\n",
    "print(f.read(10))\n",
    "f.close()\n",
    "\n",
    "# read one line\n",
    "f = open(\"example.txt\", \"r\")\n",
    "print(f.readline())\n",
    "f.close()\n",
    "\n",
    "# read all lines into a list\n",
    "f = open(\"example.txt\" ,\"r\")\n",
    "print(f.readlines())\n",
    "f.close()"
   ]
  },
  {
   "cell_type": "code",
   "execution_count": 19,
   "id": "d0d4ef9d-afae-411d-9a61-ba3298cdbcbe",
   "metadata": {},
   "outputs": [],
   "source": [
    "# Writing to a file\n",
    "\n",
    "# overwrite the file (write mode)\n",
    "f = open(\"example.txt\", \"w\")\n",
    "f.write(\"This is the new content.\")\n",
    "f.close()\n",
    "\n",
    "# append to file\n",
    "f = open(\"example.txt\", \"a\")\n",
    "f.write(\"This line is appended.\")\n",
    "f.close()\n"
   ]
  },
  {
   "cell_type": "code",
   "execution_count": 22,
   "id": "4a37fd45-703d-4584-8883-e8cb7ed8c576",
   "metadata": {},
   "outputs": [
    {
     "name": "stdout",
     "output_type": "stream",
     "text": [
      "File Name: example.txt\n",
      "Mode: r\n",
      "Closed: False\n",
      "Readable: True\n",
      "Writable: False\n",
      "Closed after close(): True\n"
     ]
    }
   ],
   "source": [
    "# File methods\n",
    "\n",
    "f = open(\"example.txt\", \"r\")\n",
    "\n",
    "print(\"File Name:\" ,f.name)\n",
    "print(\"Mode:\" , f.mode)\n",
    "print(\"Closed:\" , f.closed)\n",
    "print(\"Readable:\" , f.readable())\n",
    "print(\"Writable:\" , f.writable())\n",
    "f.close()\n",
    "print(\"Closed after close():\" , f.closed)"
   ]
  },
  {
   "cell_type": "code",
   "execution_count": 25,
   "id": "1e6fed38-6351-469b-9986-4efc13eb27bc",
   "metadata": {},
   "outputs": [
    {
     "name": "stdout",
     "output_type": "stream",
     "text": [
      "After seek(0): Hello Shruti \n",
      "Welcome to file handling\n",
      "Hello\n",
      "Current pointer position: 5\n"
     ]
    }
   ],
   "source": [
    "# f.seek(offset) - move the file pointer\n",
    "\n",
    "with open(\"example.txt\" , \"w+\") as f:\n",
    "    f.write(\"Hello Shruti \\nWelcome to file handling\")\n",
    "    f.seek(0) # move pointer to beginning\n",
    "    print(\"After seek(0):\" , f.read())\n",
    "\n",
    "# f.tell() - current file pointer position\n",
    "\n",
    "with open(\"example.txt\", \"r\") as f:\n",
    "    print(f.read(5))\n",
    "    print(\"Current pointer position:\" , f.tell())\n",
    "\n",
    "# fileObject.write(string) - Write to file\n",
    "\n",
    "with open(\"example.txt\", \"w\") as myfile:\n",
    "    myfile.write(\"This is a new line written to the file.\")\n"
   ]
  },
  {
   "cell_type": "code",
   "execution_count": 26,
   "id": "9c038cc9-dba7-425d-b3ea-6a39fcec7a2b",
   "metadata": {},
   "outputs": [
    {
     "name": "stdout",
     "output_type": "stream",
     "text": [
      "temp.txt deleted successfully\n"
     ]
    }
   ],
   "source": [
    "# os.remove(filename) - delete a file\n",
    "\n",
    "import os\n",
    "\n",
    "# create a file\n",
    "with open(\"temp.txt\", \"w\") as f:\n",
    "    f.write(\"ABCDEFGH\")\n",
    "\n",
    "# Delete a file\n",
    "os.remove(\"temp.txt\")\n",
    "print(\"temp.txt deleted successfully\")"
   ]
  },
  {
   "cell_type": "code",
   "execution_count": 28,
   "id": "f14eadfe-6395-48db-b6ca-caaba26a5390",
   "metadata": {},
   "outputs": [
    {
     "name": "stdout",
     "output_type": "stream",
     "text": [
      "This is a new line written to the file.\n"
     ]
    }
   ],
   "source": [
    "# opening file from another directory (Windows)\n",
    "\n",
    "# use double backslashes \\\\ or raw string r\"\"\n",
    "f = open(\"C:\\\\Users\\\\Dell\\Downloads\\\\Infosys classes\\\\example.txt\" , \"r\")\n",
    "print(f.read())\n",
    "f.close()\n"
   ]
  },
  {
   "cell_type": "code",
   "execution_count": 29,
   "id": "a2210400-3295-411e-84e9-be1a249ce4df",
   "metadata": {},
   "outputs": [
    {
     "name": "stdout",
     "output_type": "stream",
     "text": [
      "This is a new line written to the file.\n"
     ]
    }
   ],
   "source": [
    "# for line in open(filename) - read file line by line\n",
    "\n",
    "for line in open(\"example.txt\" , \"r\"):\n",
    "    print(line.strip()) # strip() remove \\n"
   ]
  },
  {
   "cell_type": "code",
   "execution_count": null,
   "id": "37960820-a3f3-4544-b7c0-2eeefed20855",
   "metadata": {},
   "outputs": [],
   "source": [
    "# Class work"
   ]
  },
  {
   "cell_type": "code",
   "execution_count": 5,
   "id": "dfb724f3-8f57-42ee-a33b-eb87e54eea52",
   "metadata": {},
   "outputs": [
    {
     "name": "stdout",
     "output_type": "stream",
     "text": [
      "We are from Infosys. 1\n",
      "We are from Infosys. 2\n",
      "We are from Infosys. 3\n",
      "We are from Infosys. 4\n",
      "We are from Infosys. 5\n",
      "We are from Infosys. 6\n",
      "We are from Infosys. 7\n"
     ]
    }
   ],
   "source": [
    "# for loop for a given range\n",
    "for i in range(1,8):\n",
    "    print(\"We are from Infosys.\",i)"
   ]
  },
  {
   "cell_type": "code",
   "execution_count": 6,
   "id": "e03ffd3f-3d19-4173-8b52-8dd1b7a968a1",
   "metadata": {},
   "outputs": [
    {
     "name": "stdout",
     "output_type": "stream",
     "text": [
      "we are from infosys. i\n",
      "we are from infosys. n\n",
      "we are from infosys. f\n",
      "we are from infosys. o\n",
      "we are from infosys. s\n",
      "we are from infosys. y\n",
      "we are from infosys. s\n"
     ]
    }
   ],
   "source": [
    "# for loop using strings\n",
    "for i in 'infosys':\n",
    "    print(\"we are from infosys.\" , i)"
   ]
  },
  {
   "cell_type": "code",
   "execution_count": 7,
   "id": "d783122b-7d40-4ef4-9ee1-628a94e33b4a",
   "metadata": {},
   "outputs": [
    {
     "name": "stdout",
     "output_type": "stream",
     "text": [
      "learning 67\n",
      "learning hello\n",
      "learning 7.5\n"
     ]
    }
   ],
   "source": [
    "# for loop using list\n",
    "for i in [67, 'hello',7.5]:\n",
    "    print('learning' ,i)"
   ]
  },
  {
   "cell_type": "code",
   "execution_count": 8,
   "id": "c3ba4006-3201-4edf-80b8-331031777b04",
   "metadata": {},
   "outputs": [],
   "source": [
    "# while loop"
   ]
  },
  {
   "cell_type": "code",
   "execution_count": 11,
   "id": "8516f7e6-1a9e-4016-b6f1-43b7090d95c3",
   "metadata": {},
   "outputs": [
    {
     "name": "stdout",
     "output_type": "stream",
     "text": [
      "we are from infosys. 10\n",
      "we are from infosys. 9\n",
      "we are from infosys. 8\n",
      "we are from infosys. 7\n",
      "we are from infosys. 6\n",
      "we are from infosys. 5\n",
      "we are from infosys. 4\n",
      "we are from infosys. 3\n",
      "we are from infosys. 2\n",
      "we are from infosys. 1\n"
     ]
    }
   ],
   "source": [
    "days = 10\n",
    "while days>0:\n",
    "    print('we are from infosys.',days)\n",
    "    days = days-1\n",
    "    \n",
    "    "
   ]
  },
  {
   "cell_type": "code",
   "execution_count": 14,
   "id": "50abdf56-be23-418b-ba6d-b387578fd21b",
   "metadata": {},
   "outputs": [
    {
     "name": "stdout",
     "output_type": "stream",
     "text": [
      "please give the laptop to employee. 1\n",
      "please give the laptop to employee. 2\n",
      "please give the laptop to employee. 3\n",
      "please give the laptop to employee. 4\n",
      "please give the laptop to employee. 6\n",
      "please give the laptop to employee. 7\n",
      "please give the laptop to employee. 8\n",
      "please give the laptop to employee. 9\n"
     ]
    }
   ],
   "source": [
    "# for loop for a given range\n",
    "# robotic programming\n",
    "for i in range(1,10):\n",
    "    if i == 5:\n",
    "        #break\n",
    "        continue # skip for the current loop and continue for the rest.\n",
    "    print(\"please give the laptop to employee.\", i)"
   ]
  },
  {
   "cell_type": "code",
   "execution_count": 15,
   "id": "7e046dd9-0775-45be-8ebf-8f1de6480934",
   "metadata": {},
   "outputs": [
    {
     "data": {
      "text/plain": [
       "'C:\\\\Users\\\\Dell\\\\Downloads\\\\Infosys classes'"
      ]
     },
     "execution_count": 15,
     "metadata": {},
     "output_type": "execute_result"
    }
   ],
   "source": [
    "import os\n",
    "os.getcwd()"
   ]
  },
  {
   "cell_type": "code",
   "execution_count": null,
   "id": "75244581-18c5-418a-95ca-ed1d55a2d9a8",
   "metadata": {},
   "outputs": [],
   "source": []
  }
 ],
 "metadata": {
  "kernelspec": {
   "display_name": "Python 3 (ipykernel)",
   "language": "python",
   "name": "python3"
  },
  "language_info": {
   "codemirror_mode": {
    "name": "ipython",
    "version": 3
   },
   "file_extension": ".py",
   "mimetype": "text/x-python",
   "name": "python",
   "nbconvert_exporter": "python",
   "pygments_lexer": "ipython3",
   "version": "3.11.4"
  }
 },
 "nbformat": 4,
 "nbformat_minor": 5
}
