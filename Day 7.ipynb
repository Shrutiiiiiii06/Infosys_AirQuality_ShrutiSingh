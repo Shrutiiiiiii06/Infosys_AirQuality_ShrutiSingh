{
 "cells": [
  {
   "cell_type": "code",
   "execution_count": null,
   "id": "6ea06329-ceb8-410a-a72f-e7efb939ebee",
   "metadata": {},
   "outputs": [],
   "source": [
    "Numpy and Pandas, EDA and Dashborad\n",
    "Data collected can have problems of 1. missing data, 2. Unnecessary data , 3. wrong data , wrong format \n",
    "trainig machine for preparing pizza"
   ]
  },
  {
   "cell_type": "code",
   "execution_count": 1,
   "id": "1ec6c43a-ce0c-4da0-bbc2-236b3ff74ef9",
   "metadata": {},
   "outputs": [
    {
     "name": "stdout",
     "output_type": "stream",
     "text": [
      "Requirement already satisfied: numpy in c:\\users\\dell\\appdata\\local\\programs\\python\\python311\\lib\\site-packages (1.26.4)\n"
     ]
    },
    {
     "name": "stderr",
     "output_type": "stream",
     "text": [
      "\n",
      "[notice] A new release of pip is available: 25.1.1 -> 25.2\n",
      "[notice] To update, run: python.exe -m pip install --upgrade pip\n"
     ]
    }
   ],
   "source": [
    "!pip install numpy\n"
   ]
  },
  {
   "cell_type": "code",
   "execution_count": 3,
   "id": "0c772152-edf3-4f60-8226-6b9e3ec7bcfb",
   "metadata": {},
   "outputs": [
    {
     "name": "stdout",
     "output_type": "stream",
     "text": [
      "[1 2 3 4 5]\n"
     ]
    }
   ],
   "source": [
    "import numpy as np\n",
    "a = np.array([1,2,3,4,5])\n",
    "print(a)"
   ]
  },
  {
   "cell_type": "code",
   "execution_count": 5,
   "id": "ece29c09-6fb9-4978-8098-fad0bcef383e",
   "metadata": {},
   "outputs": [
    {
     "name": "stdout",
     "output_type": "stream",
     "text": [
      "[ 0  1  2  3  4  5  6  7  8  9 10 11 12 13 14 15 16 17 18 19 20 21 22 23]\n",
      "[[[ 0  1  2]\n",
      "  [ 3  4  5]\n",
      "  [ 6  7  8]\n",
      "  [ 9 10 11]]\n",
      "\n",
      " [[12 13 14]\n",
      "  [15 16 17]\n",
      "  [18 19 20]\n",
      "  [21 22 23]]]\n"
     ]
    }
   ],
   "source": [
    "import numpy as np\n",
    "a = np.arange(24)\n",
    "print(a)\n",
    "\n",
    "b = a.reshape(2,4,3)\n",
    "print(b)"
   ]
  },
  {
   "cell_type": "code",
   "execution_count": 6,
   "id": "77c6ccc1-fd25-41fc-b67b-e8b1a706627d",
   "metadata": {},
   "outputs": [],
   "source": [
    "# Task 1: There are 5 students with height and weight.Calculate Bmi of all 5 students."
   ]
  },
  {
   "cell_type": "code",
   "execution_count": 10,
   "id": "45500ffe-de4b-4496-97f5-6f39ae3cf2b4",
   "metadata": {},
   "outputs": [
    {
     "name": "stdout",
     "output_type": "stream",
     "text": [
      "[22.22 24.97 27.34 29.38 29.41]\n"
     ]
    }
   ],
   "source": [
    "import numpy as np\n",
    "\n",
    "# Heights(meters)\n",
    "heights = np.array([1.50, 1.55, 1.60, 1.65, 1.70])  \n",
    "\n",
    "# Weights(kilograms)\n",
    "weights = np.array([50, 60, 70, 80, 85])  \n",
    "\n",
    "# BMI Formula\n",
    "bmi = weights / (heights ** 2)\n",
    "\n",
    "print(bmi)\n"
   ]
  },
  {
   "cell_type": "code",
   "execution_count": null,
   "id": "b93f3bb7-f59b-4a68-9956-10e84d4d45e2",
   "metadata": {},
   "outputs": [],
   "source": [
    "#Milestone 1: Download the data set for Forecasting Air Quality Using \n",
    "#Historical Pollution Data. Then do data preprocessing & EDA"
   ]
  },
  {
   "cell_type": "code",
   "execution_count": null,
   "id": "9aa7443a-7c0c-4904-a31f-99109c462e01",
   "metadata": {},
   "outputs": [],
   "source": []
  }
 ],
 "metadata": {
  "kernelspec": {
   "display_name": "Python 3 (ipykernel)",
   "language": "python",
   "name": "python3"
  },
  "language_info": {
   "codemirror_mode": {
    "name": "ipython",
    "version": 3
   },
   "file_extension": ".py",
   "mimetype": "text/x-python",
   "name": "python",
   "nbconvert_exporter": "python",
   "pygments_lexer": "ipython3",
   "version": "3.11.4"
  }
 },
 "nbformat": 4,
 "nbformat_minor": 5
}
